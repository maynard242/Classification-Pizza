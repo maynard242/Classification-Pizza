{
 "cells": [
  {
   "cell_type": "markdown",
   "metadata": {},
   "source": [
    "# W207 Final Project\n",
    "Erika, Jen Jen, Geoff, Leslie\n",
    "\n",
    "(In Python 3)"
   ]
  },
  {
   "cell_type": "markdown",
   "metadata": {},
   "source": [
    "As of 3/35\n",
    "\n",
    "Outline:\n",
    "\n",
    "* Data Pre-Processing  \n",
    "* Simple Feature Selection\n",
    "* Basline Models\n",
    "* Possible Approaches\n",
    "   "
   ]
  },
  {
   "cell_type": "markdown",
   "metadata": {},
   "source": [
    "# 1. Libraries"
   ]
  },
  {
   "cell_type": "code",
   "execution_count": 55,
   "metadata": {},
   "outputs": [],
   "source": [
    "# Import Libraries #\n",
    "%matplotlib inline\n",
    "\n",
    "import json\n",
    "from pprint import pprint\n",
    "from pandas import *\n",
    "from pandas.io.json import json_normalize\n",
    "\n",
    "# SK-learn library for importing the newsgroup data.\n",
    "from sklearn.datasets import fetch_20newsgroups\n",
    "\n",
    "# General libraries\n",
    "import re\n",
    "import numpy as np\n",
    "import matplotlib.pyplot as plt\n",
    "\n",
    "# SK-learn libraries for feature extraction from text.\n",
    "from sklearn.feature_extraction.text import *\n",
    "\n",
    "# SK-learn libraries for pre/processing data\n",
    "from sklearn import preprocessing\n",
    "\n",
    "from sklearn.decomposition import LatentDirichletAllocation as LDA\n",
    "from sklearn.decomposition import TruncatedSVD\n",
    "from sklearn.decomposition import NMF\n",
    "from sklearn.discriminant_analysis import LinearDiscriminantAnalysis\n",
    "\n",
    "# SK-lear library for feature selection\n",
    "from sklearn.feature_selection import VarianceThreshold\n",
    "from sklearn.feature_selection import SelectKBest\n",
    "from sklearn.feature_selection import chi2\n",
    "from sklearn.feature_selection import SelectFromModel\n",
    "\n",
    "# SK-learn libraries for learning\n",
    "from sklearn.pipeline import Pipeline\n",
    "from sklearn.neighbors import KNeighborsClassifier\n",
    "from sklearn.linear_model import LogisticRegression\n",
    "from sklearn.naive_bayes import BernoulliNB\n",
    "from sklearn.naive_bayes import MultinomialNB\n",
    "from sklearn.ensemble import RandomForestClassifier\n",
    "\n",
    "# SK-learn libraries for evaluation\n",
    "from sklearn import model_selection\n",
    "from sklearn.model_selection import GridSearchCV\n",
    "from sklearn import metrics\n",
    "from sklearn.metrics import classification_report\n",
    "from sklearn.metrics import recall_score\n",
    "from sklearn.metrics import confusion_matrix\n",
    "from sklearn.metrics import roc_curve, roc_auc_score\n",
    "\n",
    "# NLTK for text processing, analyzing tools\n",
    "from nltk.classify import NaiveBayesClassifier\n",
    "from nltk.tokenize import word_tokenize\n",
    "from nltk.stem.porter import PorterStemmer\n",
    "from nltk.stem import WordNetLemmatizer\n",
    "from nltk.sentiment import SentimentAnalyzer\n",
    "from nltk.sentiment.util import *\n",
    "\n",
    "from IPython.display import display\n",
    "import datetime as dt\n",
    "\n"
   ]
  },
  {
   "cell_type": "markdown",
   "metadata": {},
   "source": [
    "# 2. Standard Data"
   ]
  },
  {
   "cell_type": "code",
   "execution_count": null,
   "metadata": {
    "collapsed": true
   },
   "outputs": [],
   "source": []
  },
  {
   "cell_type": "markdown",
   "metadata": {},
   "source": [
    "## 2.1 Raw Data "
   ]
  },
  {
   "cell_type": "code",
   "execution_count": 3,
   "metadata": {},
   "outputs": [
    {
     "name": "stdout",
     "output_type": "stream",
     "text": [
      "'data in json format:'\n",
      "{'giver_username_if_known': 'N/A',\n",
      " 'number_of_downvotes_of_request_at_retrieval': 2,\n",
      " 'number_of_upvotes_of_request_at_retrieval': 2,\n",
      " 'post_was_edited': False,\n",
      " 'request_id': 't3_yemx8',\n",
      " 'request_number_of_comments_at_retrieval': 1,\n",
      " 'request_text': 'My boyfriend and I live in Saint Augustine, Florida and have '\n",
      "                 'been having a rough time financially the past few months.  '\n",
      "                 \"In and out of various jobs, we've had to survive off of \"\n",
      "                 'coscto sized ramen packs, and pasta and olive oil.  I '\n",
      "                 'applied for food stamps a couple days ago, and am waiting to '\n",
      "                 \"hear back from them.  It's getting a little trite, and we're \"\n",
      "                 \"quite hungry tonight, a hot pizza would be a delight.  We'll \"\n",
      "                 'happily pay it forward in the future.  Much love.',\n",
      " 'request_text_edit_aware': 'My boyfriend and I live in Saint Augustine, '\n",
      "                            'Florida and have been having a rough time '\n",
      "                            'financially the past few months.  In and out of '\n",
      "                            \"various jobs, we've had to survive off of coscto \"\n",
      "                            'sized ramen packs, and pasta and olive oil.  I '\n",
      "                            'applied for food stamps a couple days ago, and am '\n",
      "                            \"waiting to hear back from them.  It's getting a \"\n",
      "                            \"little trite, and we're quite hungry tonight, a \"\n",
      "                            \"hot pizza would be a delight.  We'll happily pay \"\n",
      "                            'it forward in the future.  Much love.',\n",
      " 'request_title': '[Request]  Saint Augustine, US.  Boyfriend and I have no '\n",
      "                  'money till next week, and are awaiting food stamps '\n",
      "                  'approval.',\n",
      " 'requester_account_age_in_days_at_request': 444.6098148148148,\n",
      " 'requester_account_age_in_days_at_retrieval': 919.923113425926,\n",
      " 'requester_days_since_first_post_on_raop_at_request': 0.0,\n",
      " 'requester_days_since_first_post_on_raop_at_retrieval': 475.27163194444444,\n",
      " 'requester_number_of_comments_at_request': 99,\n",
      " 'requester_number_of_comments_at_retrieval': 182,\n",
      " 'requester_number_of_comments_in_raop_at_request': 0,\n",
      " 'requester_number_of_comments_in_raop_at_retrieval': 10,\n",
      " 'requester_number_of_posts_at_request': 6,\n",
      " 'requester_number_of_posts_at_retrieval': 16,\n",
      " 'requester_number_of_posts_on_raop_at_request': 0,\n",
      " 'requester_number_of_posts_on_raop_at_retrieval': 1,\n",
      " 'requester_number_of_subreddits_at_request': 38,\n",
      " 'requester_received_pizza': False,\n",
      " 'requester_subreddits_at_request': ['AskReddit',\n",
      "                                     'Guitar',\n",
      "                                     'Jazz',\n",
      "                                     'Music',\n",
      "                                     'NSFW_GIF',\n",
      "                                     'Psychonaut',\n",
      "                                     'RoomPorn',\n",
      "                                     'StAugustine',\n",
      "                                     'TwoXChromosomes',\n",
      "                                     'WTF',\n",
      "                                     'YouShouldKnow',\n",
      "                                     'atheism',\n",
      "                                     'aww',\n",
      "                                     'bakedart',\n",
      "                                     'catpictures',\n",
      "                                     'cats',\n",
      "                                     'crochet',\n",
      "                                     'dubstep',\n",
      "                                     'ents',\n",
      "                                     'entwives',\n",
      "                                     'food',\n",
      "                                     'funny',\n",
      "                                     'gonewild',\n",
      "                                     'hiphopheads',\n",
      "                                     'listentothis',\n",
      "                                     'meetup',\n",
      "                                     'offbeat',\n",
      "                                     'pics',\n",
      "                                     'realpics',\n",
      "                                     'self',\n",
      "                                     'sex',\n",
      "                                     'tattoos',\n",
      "                                     'treecomics',\n",
      "                                     'treemusic',\n",
      "                                     'trees',\n",
      "                                     'videos',\n",
      "                                     'vinyl',\n",
      "                                     'zombies'],\n",
      " 'requester_upvotes_minus_downvotes_at_request': 278,\n",
      " 'requester_upvotes_minus_downvotes_at_retrieval': 664,\n",
      " 'requester_upvotes_plus_downvotes_at_request': 378,\n",
      " 'requester_upvotes_plus_downvotes_at_retrieval': 942,\n",
      " 'requester_user_flair': None,\n",
      " 'requester_username': 'Faroffhighways',\n",
      " 'unix_timestamp_of_request': 1345254263.0,\n",
      " 'unix_timestamp_of_request_utc': 1345250663.0}\n",
      "\n",
      "Size of the normalized Data: (3040, 32)\n",
      "\n",
      "normalized data columns: ['giver_username_if_known', 'number_of_downvotes_of_request_at_retrieval', 'number_of_upvotes_of_request_at_retrieval', 'post_was_edited', 'request_id', 'request_number_of_comments_at_retrieval', 'request_text', 'request_text_edit_aware', 'request_title', 'requester_account_age_in_days_at_request', 'requester_account_age_in_days_at_retrieval', 'requester_days_since_first_post_on_raop_at_request', 'requester_days_since_first_post_on_raop_at_retrieval', 'requester_number_of_comments_at_request', 'requester_number_of_comments_at_retrieval', 'requester_number_of_comments_in_raop_at_request', 'requester_number_of_comments_in_raop_at_retrieval', 'requester_number_of_posts_at_request', 'requester_number_of_posts_at_retrieval', 'requester_number_of_posts_on_raop_at_request', 'requester_number_of_posts_on_raop_at_retrieval', 'requester_number_of_subreddits_at_request', 'requester_received_pizza', 'requester_subreddits_at_request', 'requester_upvotes_minus_downvotes_at_request', 'requester_upvotes_minus_downvotes_at_retrieval', 'requester_upvotes_plus_downvotes_at_request', 'requester_upvotes_plus_downvotes_at_retrieval', 'requester_user_flair', 'requester_username', 'unix_timestamp_of_request', 'unix_timestamp_of_request_utc']\n"
     ]
    }
   ],
   "source": [
    "## Get Data ##\n",
    "\n",
    "#reference on data: https://www.kaggle.com/c/random-acts-of-pizza/data\n",
    "\n",
    "# pull in the training and test data\n",
    "#with open('/Users/Jen2/Desktop/W207/project/train.json', encoding='utf-8') as data_file:\n",
    "with open('/home/levi/Documents/W207_Proj/data/train.json', encoding='utf-8') as data_file:\n",
    "    trainData = json.loads(data_file.read())   \n",
    "#with open('/Users/Jen2/Desktop/W207/project/test.json', encoding='utf-8') as data_file:\n",
    "with open('/home/levi/Documents/W207_Proj/data/train.json', encoding='utf-8') as data_file:\n",
    "    testData = json.loads(data_file.read())    \n",
    "\n",
    "# create a dev data set \n",
    "devData = trainData[0:1000]\n",
    "trainData = trainData[1000:]\n",
    "\n",
    "# show how the data looks in its original format\n",
    "pprint(\"data in json format:\")\n",
    "pprint(trainData[1])\n",
    "\n",
    "# create a normalized view\n",
    "allTData = json_normalize(trainData)\n",
    "print(\"\\nSize of the normalized Data:\", allTData.shape)\n",
    "print(\"\\nnormalized data columns:\", list(allTData))\n",
    "\n",
    "allDData = json_normalize(devData)\n"
   ]
  },
  {
   "cell_type": "markdown",
   "metadata": {},
   "source": [
    "## 2.2 Parsing Data"
   ]
  },
  {
   "cell_type": "code",
   "execution_count": 4,
   "metadata": {},
   "outputs": [
    {
     "name": "stdout",
     "output_type": "stream",
     "text": [
      "['giver_username_if_known', 'number_of_downvotes_of_request_at_retrieval', 'number_of_upvotes_of_request_at_retrieval', 'post_was_edited', 'request_id', 'request_number_of_comments_at_retrieval', 'request_text', 'request_text_edit_aware', 'request_title', 'requester_account_age_in_days_at_request', 'requester_account_age_in_days_at_retrieval', 'requester_days_since_first_post_on_raop_at_request', 'requester_days_since_first_post_on_raop_at_retrieval', 'requester_number_of_comments_at_request', 'requester_number_of_comments_at_retrieval', 'requester_number_of_comments_in_raop_at_request', 'requester_number_of_comments_in_raop_at_retrieval', 'requester_number_of_posts_at_request', 'requester_number_of_posts_at_retrieval', 'requester_number_of_posts_on_raop_at_request', 'requester_number_of_posts_on_raop_at_retrieval', 'requester_number_of_subreddits_at_request', 'requester_received_pizza', 'requester_upvotes_minus_downvotes_at_request', 'requester_upvotes_minus_downvotes_at_retrieval', 'requester_upvotes_plus_downvotes_at_request', 'requester_upvotes_plus_downvotes_at_retrieval', 'requester_user_flair', 'requester_username', 'unix_timestamp_of_request', 'unix_timestamp_of_request_utc']\n",
      "(3040, 1)\n",
      "['AskReddit', 'Guitar', 'Jazz', 'Music', 'NSFW_GIF', 'Psychonaut', 'RoomPorn', 'StAugustine', 'TwoXChromosomes', 'WTF', 'YouShouldKnow', 'atheism', 'aww', 'bakedart', 'catpictures', 'cats', 'crochet', 'dubstep', 'ents', 'entwives', 'food', 'funny', 'gonewild', 'hiphopheads', 'listentothis', 'meetup', 'offbeat', 'pics', 'realpics', 'self', 'sex', 'tattoos', 'treecomics', 'treemusic', 'trees', 'videos', 'vinyl', 'zombies']\n",
      "                              requester_subreddits_at_request\n",
      "request_id                                                   \n",
      "t3_1mdjqu   [FoodstuffsAllAround, IAmA, RandomActsOfCookie...\n",
      "t3_yemx8    [AskReddit, Guitar, Jazz, Music, NSFW_GIF, Psy...\n",
      "t3_1a4uso   [Albany, AskReddit, Brooklyn, Favors, ImGoingT...\n",
      "t3_o59yk                               [Random_Acts_Of_Pizza]\n",
      "t3_svx9s    [AskReddit, Favors, Jazz, boardgames, discgolf...\n",
      "t3_11um5c                                                  []\n",
      "t3_wrm2q                                                   []\n",
      "t3_jcrr9    [AskReddit, IAmA, circlejerk, fffffffuuuuuuuuu...\n",
      "t3_18udmh   [AskReddit, Glitch_in_the_Matrix, IAmA, Music,...\n",
      "t3_tl7q7    [AskReddit, IAmA, TwoXChromosomes, funny, movi...\n",
      "t3_19h8rg   [AdviceAnimals, AskReddit, Drugs, Fitness, IAm...\n",
      "t3_162rga   [90s, AMA, AntiJokes, AskReddit, Awww, Cillian...\n",
      "t3_l460b                 [Cooking, harrypotter, nature, pics]\n",
      "t3_kerxb    [WTF, entwives, gaming, masseffect, thesims, t...\n",
      "t3_ymc8x    [Advice, Anarchism, AskReddit, Economics, comm...\n",
      "t3_jb0kw    [AskReddit, IAmA, LosAngeles, WTF, atheism, do...\n",
      "t3_15htf7   [AskReddit, CFB, CollegeBasketball, Journalism...\n",
      "t3_1fhc8g   [AdviceAnimals, Antihumor, AskReddit, CornyJok...\n",
      "t3_x0ymn    [AdviceAnimals, AskReddit, Christianity, Debat...\n",
      "t3_olc0m                               [Random_Acts_Of_Pizza]\n",
      "t3_14ny01   [AdviceAnimals, AskReddit, IAmA, Random_Acts_O...\n",
      "t3_m22z8                                               [pics]\n",
      "t3_1h1ytg   [AdviceAnimals, AskReddit, Bioshock, BustyPeti...\n",
      "t3_1mjrmt   [AdviceAnimals, AskReddit, IAmA, LOLStreams, M...\n",
      "t3_157fqg   [AdviceAnimals, ArchitecturePorn, AskReddit, B...\n",
      "t3_xlbva                                          [Minecraft]\n",
      "t3_lrgth    [AdviceAnimals, AskReddit, DoesAnybodyElse, Fi...\n",
      "t3_ktg8y    [2XLookbook, 90daysgoal, Android, AskReddit, C...\n",
      "t3_tc5ny    [AdviceAnimals, AskReddit, DoesAnybodyElse, Gi...\n",
      "t3_iswig                                                   []\n",
      "...                                                       ...\n",
      "t3_ucqi3    [AskReddit, Diablo, Diablo3Strategy, Games, Su...\n",
      "t3_nfga2    [AdviceAnimals, Animals, AskReddit, Atlanta, D...\n",
      "t3_so8v3    [AskReddit, IAmA, Minecraft, Music, Quebec, Ra...\n",
      "t3_1lefgo   [4chan, AdviceAnimals, Art, AskReddit, DIY, Fe...\n",
      "t3_m2ot3    [Advice, AskReddit, IAmA, Random_Acts_Of_Pizza...\n",
      "t3_ilrar                                                   []\n",
      "t3_1ld5j6   [AdviceAnimals, ArcherFX, AskReddit, AskScienc...\n",
      "t3_o2vp7    [Random_Acts_Of_Pizza, fffffffuuuuuuuuuuuu, fu...\n",
      "t3_12einf   [AdviceAnimals, AskWomen, Bass, HIMYM, IAmA, M...\n",
      "t3_11e5xk                                                  []\n",
      "t3_1l2skl   [AskMen, AskReddit, AskWomen, BDSMcommunity, D...\n",
      "t3_1lvmjt   [AskMen, AskReddit, BostonTerrier, DIY, Fitnes...\n",
      "t3_1ixemj   [AskReddit, DebateReligion, Fallout, FiftyFift...\n",
      "t3_1io64d   [AdviceAnimals, Android, AskReddit, BeautyDiag...\n",
      "t3_oo525    [AskReddit, DAE, Drugs, HardcoreSMP, RandomAct...\n",
      "t3_1nvvnk   [52weeksofcooking, AskCulinary, AskReddit, Aut...\n",
      "t3_1ehki4   [AskReddit, GoneWildPlus, IAmA, ImGoingToHellF...\n",
      "t3_v259r    [AskReddit, fffffffuuuuuuuuuuuu, funny, gaming...\n",
      "t3_wo39k    [AdviceAnimals, AskReddit, IAmA, Music, Userna...\n",
      "t3_ixx53    [AdviceAnimals, AskReddit, GameDeals, IAmA, Mu...\n",
      "t3_1num5h   [AskReddit, BeardPorn, IAmA, Music, Random_Act...\n",
      "t3_pvqb0    [AdviceAnimals, AskReddit, IAmA, Random_Acts_O...\n",
      "t3_1bna25   [AdviceAnimals, Animals, AskReddit, CSULB, Chr...\n",
      "t3_1im2is   [AdviceAnimals, AskReddit, Diablo, DotA2, Eve,...\n",
      "t3_j853t    [AskReddit, Minecraft, firstworldproblems, mag...\n",
      "t3_1hpv57                                                  []\n",
      "t3_1lzcwr   [AskReddit, CoffeeWithJesus, IAmA, RandomKindn...\n",
      "t3_1f77ml   [AdviceAnimals, Android, AskReddit, Diablo, HT...\n",
      "t3_q875f                               [Random_Acts_Of_Pizza]\n",
      "t3_189pw1   [AskReddit, Drugs, IAmA, LongDistance, Minecra...\n",
      "\n",
      "[3040 rows x 1 columns]\n"
     ]
    }
   ],
   "source": [
    "## Create subsets of data for analysis ###\n",
    "\n",
    "# create a flat dataset without the subreddits list\n",
    "flatData = allTData.drop('requester_subreddits_at_request', 1)\n",
    "# create a separate dataset with just subreddits, indexed on request id\n",
    "# we can creata a count vector on the words, run Naive Bayes against it, \n",
    "# and add the probabilities to our flat dataset\n",
    "subredTData = allTData[['request_id','requester_subreddits_at_request']]\n",
    "subredTData.set_index('request_id', inplace=True)\n",
    "\n",
    "subredDData= allDData[['request_id','requester_subreddits_at_request']]\n",
    "subredDData.set_index('request_id', inplace=True)\n",
    "\n",
    "# our training labels\n",
    "trainLabel = allTData['requester_received_pizza']\n",
    "\n",
    "devLabel = allDData['requester_received_pizza']\n",
    "\n",
    "# what do these look like?\n",
    "print(list(flatData))\n",
    "print(subredTData.shape)\n",
    "print(subredTData['requester_subreddits_at_request'][1])\n",
    "\n",
    "# create a corpus of subreddits to vectorize\n",
    "trainCorpus = []\n",
    "for index in range(len(subredTData)):\n",
    "    trainCorpus.append(' '.join(subredTData['requester_subreddits_at_request'][index]))\n",
    "\n",
    "devCorpus = []\n",
    "for index in range(len(subredDData)):\n",
    "    devCorpus.append(' '.join(subredDData['requester_subreddits_at_request'][index]))\n",
    "    \n",
    "\n",
    "print(subredTData)"
   ]
  },
  {
   "cell_type": "code",
   "execution_count": 5,
   "metadata": {},
   "outputs": [
    {
     "name": "stdout",
     "output_type": "stream",
     "text": [
      "                                       request_title  \\\n",
      "0  [Request] Just got dumped, no food in the free...   \n",
      "1  [Request]  Saint Augustine, US.  Boyfriend and...   \n",
      "2        [Request] I'd love a Buffalo Chicken Puzza!   \n",
      "\n",
      "                                        request_text  \n",
      "0  So it's been a while since it's happened, but ...  \n",
      "1  My boyfriend and I live in Saint Augustine, Fl...  \n",
      "2  I seriously love buffalo chicken pizza. Like, ...  \n",
      "0    Hi I am in need of food for my 4 children we a...\n",
      "1    I spent the last money I had on gas today. Im ...\n",
      "2    My girlfriend decided it would be a good idea ...\n",
      "Name: request_text, dtype: object\n",
      "3040\n",
      "[\"[Request] Just got dumped, no food in the freezer. Pizza? So it's been a while since it's happened, but yeah. Just got dumped by a girl I like... My brother has used up pretty much everything in the freezer. I would really appreciate a pizza right now...\", \"[Request]  Saint Augustine, US.  Boyfriend and I have no money till next week, and are awaiting food stamps approval. My boyfriend and I live in Saint Augustine, Florida and have been having a rough time financially the past few months.  In and out of various jobs, we've had to survive off of coscto sized ramen packs, and pasta and olive oil.  I applied for food stamps a couple days ago, and am waiting to hear back from them.  It's getting a little trite, and we're quite hungry tonight, a hot pizza would be a delight.  We'll happily pay it forward in the future.  Much love.\", \"[Request] I'd love a Buffalo Chicken Puzza! I seriously love buffalo chicken pizza. Like, straight up addicted. There's a local pizzeria that delivers and they make the best buffalo chicken pizza I've ever had; however if you dont feel safe with that or have a Giftcard to a chain I could care less, I just want a buffalo chicken pizza soooo bad! \"]\n",
      "[0, 0, 1]\n",
      "---------------------------------------------------------------------------\n",
      "\n",
      " ['Request Colorado Springs Help Us Please Hi I am in need of food for my 4 children we are a military family that has really hit hard times and we have exahusted all means of help just to be able to feed my family and make it through another night is all i ask i know our blessing is coming so whatever u can find in your heart to give is greatly appreciated', '[Request] California, No cash and I could use some dinner I spent the last money I had on gas today. Im broke until next Thursday :(', \"[Request] Hungry couple in Dundee, Scotland would love some pizza! My girlfriend decided it would be a good idea to get off at Perth bus station when she was coming to visit me and has since had to spend all her money on a taxi to get to me here in Dundee. Any chance some kind soul would get us some pizza since we don't have any cash anymore?\"]\n",
      "[0, 0, 0]\n"
     ]
    }
   ],
   "source": [
    "# combine all text sources into a single corpus\n",
    "\n",
    "fldTText = allTData[['request_title', 'request_text']]\n",
    "fldDText = allDData[['request_title', 'request_text']]\n",
    "#fldDText = allDData[['request_id','request_text', 'request_text_edit_aware', 'request_title']]\n",
    "\n",
    "print(fldTText[:3])\n",
    "print(fldDText['request_text'][:3])\n",
    "print(len(fldTText))\n",
    "\n",
    "trainCorpus = []\n",
    "for index in range(len(fldTText)):\n",
    "    a = ''.join(fldTText['request_title'][index])\n",
    "    b = (a, fldTText['request_text'][index])\n",
    "    trainCorpus.append(' '.join(b))\n",
    "                          \n",
    "devCorpus = []\n",
    "for index in range(len(fldDText)):\n",
    "    a = ''.join(fldDText['request_title'][index])\n",
    "    b = (a, fldDText['request_text'][index])\n",
    "    devCorpus.append(' '.join(b))\n",
    "    \n",
    "\n",
    "# Print 3 examples  \n",
    "print (trainCorpus[:3])\n",
    "labels = trainLabel.astype(int)\n",
    "labels = list(labels)\n",
    "print(labels[:3])\n",
    "print('-'*75)\n",
    "\n",
    "print ('\\n' , devCorpus[:3])\n",
    "labels_dev = devLabel.astype(int)\n",
    "labels_dev = list(labels_dev)\n",
    "print(labels_dev[:3])"
   ]
  },
  {
   "cell_type": "markdown",
   "metadata": {},
   "source": [
    "**TEXT : trainCorpus and devCorpus **"
   ]
  },
  {
   "cell_type": "markdown",
   "metadata": {
    "collapsed": true
   },
   "source": [
    "## 2.3 Simple Feature Selection and Pre-Processing"
   ]
  },
  {
   "cell_type": "code",
   "execution_count": 6,
   "metadata": {
    "collapsed": true
   },
   "outputs": [],
   "source": [
    "# Simple Pre-Processing\n",
    "\n",
    "def data_preprocessor(s):\n",
    "    \"\"\"\n",
    "    Note: this function pre-processors data:\n",
    "    (1) removes non-alpha characters\n",
    "    (2) converts digits to 'number'\n",
    "    (3) regularizes spaces (although CountVectorizer ignores this unless they are part of words)\n",
    "    (4) reduces word size to n\n",
    "    \"\"\"\n",
    "\n",
    "    s = [re.sub(r'[?|$|.|!|@|\\n|(|)|<|>|_|-|,|\\']',r' ',s) for s in s] # strip out non-alpha numeric char, replace with space\n",
    "    s = [re.sub(r'\\d+',r'number ',s) for s in s] # convert digits to number\n",
    "    s = [re.sub(r' +',r' ',s) for s in s] # convert multiple spaces to single space\n",
    "    \n",
    "    # This sets word size to n=8\n",
    "    num = 8\n",
    "    def size_word(s):\n",
    "        temp = []\n",
    "        for s in s:\n",
    "            x = s.split()\n",
    "            z = [elem[:num] for elem in x]\n",
    "            z = ' '.join(z)\n",
    "            temp.append(z)       \n",
    "        return temp\n",
    "    \n",
    "    # Using NLTK 3.0 \n",
    "    \n",
    "    #stemmer = PorterStemmer()\n",
    "    lemmanizer = WordNetLemmatizer()\n",
    "    \n",
    "    def set_word(s):\n",
    "        temp = []\n",
    "        for s in s:\n",
    "            #x = stemmer.stem(s)\n",
    "            z = lemmanizer.lemmatize(s,pos='v')\n",
    "            z = ''.join(z)\n",
    "            temp.append(z)\n",
    "        return temp\n",
    "    \n",
    "    s = size_word(s)\n",
    "    s = set_word(s)\n",
    "    \n",
    "    \n",
    "    return s\n",
    "\n"
   ]
  },
  {
   "cell_type": "code",
   "execution_count": 7,
   "metadata": {},
   "outputs": [
    {
     "name": "stdout",
     "output_type": "stream",
     "text": [
      "\n",
      "Raw data:\n",
      "The size of the vocabulary for the training text data is 5119\n",
      "First 5 feature Names: ['ab', 'abandone', 'abc', 'abdomina', 'ability', 'abl', 'able', 'abroad', 'abruptly', 'absolute', 'abundanc', 'abuse', 'abused', 'abusive', 'ac', 'academic', 'acc', 'accept', 'accepted'] \n",
      "\n",
      "\n",
      "Pre-Processed data:\n",
      "The size of the vocabulary for the training text data is 5119\n",
      "First 5 feature Names: ['ab', 'abandone', 'abc', 'abdomina', 'ability', 'abl', 'able', 'abroad', 'abruptly', 'absolute', 'abundanc', 'abuse', 'abused', 'abusive', 'ac', 'academic', 'acc', 'accept', 'accepted'] \n",
      "\n"
     ]
    }
   ],
   "source": [
    "# Set up the data with CountVectorizer\n",
    "\n",
    "#vectorizer = CountVectorizer(lowercase=True, strip_accents='unicode',stop_words='english')\n",
    "\n",
    "vectorizer = CountVectorizer(min_df=2, max_df=0.95, lowercase=True, stop_words='english', \n",
    "                             strip_accents='unicode', ngram_range=(1,1))\n",
    "tVector = vectorizer.fit_transform(data_preprocessor(trainCorpus))\n",
    "dVector = vectorizer.transform(data_preprocessor(devCorpus))\n",
    "\n",
    "print ('\\nRaw data:')\n",
    "print (\"The size of the vocabulary for the training text data is\", tVector.shape[1])\n",
    "print (\"First 5 feature Names:\", vectorizer.get_feature_names()[1:20], \"\\n\")\n",
    "\n",
    "\n",
    "# Set up with Td-if vectorizer\n",
    "\n",
    "vectorizer = TfidfVectorizer(min_df=2, max_df=0.95, lowercase=True, stop_words='english', \n",
    "                             strip_accents='unicode', ngram_range=(1,1))\n",
    "tVector_p = vectorizer.fit_transform(data_preprocessor(trainCorpus))\n",
    "dVector_p = vectorizer.transform(data_preprocessor(devCorpus))\n",
    "\n",
    "print ('\\nPre-Processed data:')\n",
    "print (\"The size of the vocabulary for the training text data is\", tVector_p.shape[1])\n",
    "print (\"First 5 feature Names:\", vectorizer.get_feature_names()[1:20], \"\\n\")"
   ]
  },
  {
   "cell_type": "markdown",
   "metadata": {},
   "source": [
    "## 2.3 Add other features - votes, flair, time, user status, etc\n",
    "\n",
    "\n",
    "* Add these features at a column on trainCorpus and devCorpus - later to test data"
   ]
  },
  {
   "cell_type": "code",
   "execution_count": 106,
   "metadata": {},
   "outputs": [
    {
     "name": "stdout",
     "output_type": "stream",
     "text": [
      "(3040, 14) (3040, 2)\n",
      "(1000, 14) (1000, 2)\n",
      "DescribeResult(nobs=3040, minmax=(0.0, 47.0), mean=2.3996710526315788, variance=9.3969725801423607, skewness=4.44764449274179, kurtosis=35.99883022133585)\n",
      "(3040, 16)\n"
     ]
    },
    {
     "data": {
      "image/png": "[encoded data removed]",
      "text/plain": [
       "<matplotlib.figure.Figure at 0x7f60854e09e8>"
      ]
     },
     "metadata": {},
     "output_type": "display_data"
    },
    {
     "data": {
      "image/png": "[encoded data removed]",
      "text/plain": [
       "<matplotlib.figure.Figure at 0x7f6084f16f60>"
      ]
     },
     "metadata": {},
     "output_type": "display_data"
    }
   ],
   "source": [
    "# Extract other features\n",
    "\n",
    "def plot_figure(x):\n",
    "    plt.figure()\n",
    "    plt.hist(x)\n",
    "    plt.show()\n",
    "    \n",
    "\n",
    "subTTFe = allTData[['giver_username_if_known', \n",
    "                    'number_of_downvotes_of_request_at_retrieval', \n",
    "                    'number_of_upvotes_of_request_at_retrieval',\n",
    "                    'request_number_of_comments_at_retrieval',\n",
    "                    'requester_account_age_in_days_at_request',\n",
    "                    'requester_number_of_comments_at_request', \n",
    "                    'requester_number_of_comments_in_raop_at_request', \n",
    "                    'requester_number_of_posts_at_request', \n",
    "                    'requester_number_of_subreddits_at_request', \n",
    "                    'requester_upvotes_minus_downvotes_at_request', \n",
    "                    'requester_upvotes_minus_downvotes_at_retrieval', \n",
    "                    'requester_upvotes_plus_downvotes_at_request', \n",
    "                    'requester_upvotes_plus_downvotes_at_retrieval']]\n",
    "subDTFe = allDData[['giver_username_if_known', \n",
    "                    'number_of_downvotes_of_request_at_retrieval', \n",
    "                    'number_of_upvotes_of_request_at_retrieval',\n",
    "                    'request_number_of_comments_at_retrieval',\n",
    "                    'requester_account_age_in_days_at_request',\n",
    "                    'requester_number_of_comments_at_request', \n",
    "                    'requester_number_of_comments_in_raop_at_request', \n",
    "                    'requester_number_of_posts_at_request', \n",
    "                    'requester_number_of_subreddits_at_request', \n",
    "                    'requester_upvotes_minus_downvotes_at_request', \n",
    "                    'requester_upvotes_minus_downvotes_at_retrieval', \n",
    "                    'requester_upvotes_plus_downvotes_at_request', \n",
    "                    'requester_upvotes_plus_downvotes_at_retrieval']]\n",
    "\n",
    "# Convert first col to numerical\n",
    "\n",
    "temp = 1*(subTTFe['giver_username_if_known']!='N/A').values\n",
    "subTTFe = subTTFe.drop('giver_username_if_known',1).values\n",
    "\n",
    "temp = np.reshape(temp,(-1,1))\n",
    "subTTFe = np.concatenate((subTTFe,temp), axis=1)\n",
    "\n",
    "#print(subTTFe[1])\n",
    "\n",
    "temp = 1*(subDTFe['giver_username_if_known']!='N/A').values\n",
    "subDTFe = subDTFe.drop('giver_username_if_known',1).values\n",
    "\n",
    "temp = np.reshape(temp,(-1,1))\n",
    "subDTFe = np.concatenate((subDTFe,temp), axis=1)\n",
    "\n",
    "\n",
    "# Create new features\n",
    "\n",
    "# Upvote minus downvotes at request - upvote minus downvote at retrieval\n",
    "\n",
    "temp = np.reshape((subTTFe[:,10] - subTTFe[:,9]),(-1,1))\n",
    "subTTFe = np.concatenate((subTTFe,temp),axis=1)\n",
    "\n",
    "temp = np.reshape((subDTFe[:,10] - subDTFe[:,9]),(-1,1))\n",
    "subDTFe = np.concatenate((subDTFe,temp),axis=1)\n",
    "\n",
    "# Hour and Month of request\n",
    "\n",
    "unixT = allTData[['unix_timestamp_of_request_utc']].copy()\n",
    "unixD = allDData[['unix_timestamp_of_request_utc']].copy()\n",
    "\n",
    "# Convert from unix > datetime\n",
    "unixT['Datetime'] = pandas.to_datetime(unixT['unix_timestamp_of_request_utc'], unit='s')\n",
    "unixT['Hour'] = unixT['Datetime'].dt.hour\n",
    "unixT['Month'] = unixT['Datetime'].dt.month\n",
    "unixT = unixT.drop(['Datetime','unix_timestamp_of_request_utc'], axis=1)\n",
    "unixT = unixT.values\n",
    "\n",
    "unixD['Datetime'] = pandas.to_datetime(unixD['unix_timestamp_of_request_utc'], unit='s')\n",
    "unixD['Hour'] = unixD['Datetime'].dt.hour\n",
    "unixD['Month'] = unixD['Datetime'].dt.month\n",
    "unixD = unixD.drop(['Datetime','unix_timestamp_of_request_utc'], axis=1)\n",
    "unixD = unixD.values\n",
    "\n",
    "print(subTTFe.shape, unixT.shape)\n",
    "print(subDTFe.shape, unixD.shape)\n",
    "\n",
    "subTTFe = np.concatenate((subTTFe,unixT),axis=1)\n",
    "subDTFe = np.concatenate((subDTFe,unixD),axis=1)\n",
    "\n",
    "# Scale features\n",
    "\n",
    "from scipy.stats import describe\n",
    "\n",
    "print(describe(subTTFe[:,0]))\n",
    "\n",
    "n1 = preprocessing.MinMaxScaler().fit_transform(subTTFe)\n",
    "n2 = preprocessing.MinMaxScaler().fit_transform(subDTFe)\n",
    "\n",
    "print(n1.shape)\n",
    "\n",
    "for i in range(14,16):\n",
    "    plot_figure(n1[:,i])\n",
    "\n"
   ]
  },
  {
   "cell_type": "code",
   "execution_count": 99,
   "metadata": {},
   "outputs": [
    {
     "name": "stdout",
     "output_type": "stream",
     "text": [
      "[[14  9]\n",
      " [ 0  8]\n",
      " [ 6  3]\n",
      " ..., \n",
      " [14  5]\n",
      " [15  2]\n",
      " [22  2]]\n",
      "(3040, 2)\n"
     ]
    }
   ],
   "source": [
    "## PARAMETER 2:  TIMEDATE STAMP OF REDDIT POST ##\n",
    "\n",
    "\n",
    "print(unix)\n",
    "print(unix.shape)\n",
    "\n"
   ]
  },
  {
   "cell_type": "markdown",
   "metadata": {},
   "source": [
    "# Feature Selection"
   ]
  },
  {
   "cell_type": "code",
   "execution_count": 107,
   "metadata": {},
   "outputs": [
    {
     "name": "stdout",
     "output_type": "stream",
     "text": [
      "(3040, 511)\n",
      "(1000, 511)\n"
     ]
    }
   ],
   "source": [
    "#Variance Threshold\n",
    "\"\"\"\n",
    "sel = VarianceThreshold(threshold=(0.8*(1-0.8)))\n",
    "tVector = sel.fit_transform(tVector)\n",
    "dVector = sel.transform(dVector)\n",
    "\"\"\"\n",
    "\n",
    "# Select k best\n",
    "#sel = SelectKBest(chi2, k=8)\n",
    "\n",
    "# Select percentile\n",
    "from sklearn.feature_selection import mutual_info_classif\n",
    "from sklearn.feature_selection import SelectPercentile\n",
    "\n",
    "sel = SelectPercentile(mutual_info_classif, percentile=10)\n",
    "tVector = sel.fit_transform(tVector,trainLabel)\n",
    "tVector_p = sel.fit_transform(tVector_p,trainLabel)\n",
    "dVector = sel.fit_transform(dVector,devLabel)\n",
    "dVector_p = sel.fit_transform(dVector_p,devLabel)\n",
    "\n",
    "#nb = BernoulliNB(alpha=0.01).fit(tVector,trainLabel)\n",
    "#model = SelectFromModel(nb, prefit=True)\n",
    "#tVector = model.transform(tVector)\n",
    "#dVector = model.transform(dVector)\n",
    "\n",
    "\n",
    "print(tVector.shape)\n",
    "print(dVector.shape)"
   ]
  },
  {
   "cell_type": "code",
   "execution_count": 108,
   "metadata": {},
   "outputs": [
    {
     "name": "stdout",
     "output_type": "stream",
     "text": [
      "(3040, 511)\n",
      "(3040, 16)\n"
     ]
    }
   ],
   "source": [
    "print(tVector.shape)\n",
    "print(n1.shape)\n",
    "\n",
    "tVector = np.concatenate((tVector.toarray(),n1),axis=1)\n",
    "tVector_p = np.concatenate((tVector_p.toarray(),n1),axis=1)\n",
    "dVector = np.concatenate((dVector.toarray(),n2),axis=1)\n",
    "dVector_p = np.concatenate((dVector_p.toarray(),n2),axis=1)\n"
   ]
  },
  {
   "cell_type": "markdown",
   "metadata": {},
   "source": [
    "# Section 3. Baseline Models"
   ]
  },
  {
   "cell_type": "markdown",
   "metadata": {},
   "source": [
    "## 3.1 Subreddit Models"
   ]
  },
  {
   "cell_type": "markdown",
   "metadata": {},
   "source": [
    "## Logistic Regression"
   ]
  },
  {
   "cell_type": "code",
   "execution_count": 109,
   "metadata": {
    "collapsed": true
   },
   "outputs": [],
   "source": [
    "def roc_curve1(y_true, y_pred_prob):\n",
    "    \"\"\"This function plots the ROC curve\n",
    "    Inputs: y_true, correct label\n",
    "            y_pred_prob, predicted probabilities\n",
    "    \"\"\"\n",
    "    fpr, tpr, _ = roc_curve(y_true, y_pred_prob)\n",
    "   \n",
    "    plt.figure()\n",
    "    plt.plot(fpr,tpr)\n",
    "    plt.xlabel(\"False positive rate\")\n",
    "    plt.ylabel(\"True positive rate\")\n",
    "    plt.title(\"ROC Curve\")\n",
    "    plt.show()\n",
    "    \n",
    "\n",
    "def score_rep(y_true, y_pred, desc):\n",
    "    \"\"\"Function to print out comprehensive report for classification test\n",
    "    Inputs: y_true, correct label\n",
    "            y_pred, predicted label from model\n",
    "            desc, description of model\n",
    "    Output: classification report\n",
    "    \"\"\"\n",
    "    print(desc)\n",
    "    print(\"-\"*75)\n",
    "    print(\"Accuracy: \", metrics.accuracy_score(y_true, y_pred))\n",
    "    print(\"Area under curve of ROC: \", metrics.roc_auc_score(y_true, y_pred))\n",
    "    print(\"Classification report:\\n\")\n",
    "    print(metrics.classification_report(y_true, y_pred))\n",
    "    print(\"-\"*75)\n",
    "    \n"
   ]
  },
  {
   "cell_type": "markdown",
   "metadata": {},
   "source": [
    "# Logistic Regressions"
   ]
  },
  {
   "cell_type": "code",
   "execution_count": 110,
   "metadata": {},
   "outputs": [
    {
     "name": "stdout",
     "output_type": "stream",
     "text": [
      "Logistic Regression, C = 0.01\n",
      "---------------------------------------------------------------------------\n",
      "Accuracy:  0.798\n",
      "Area under curve of ROC:  0.627754677755\n",
      "Classification report:\n",
      "\n",
      "             precision    recall  f1-score   support\n",
      "\n",
      "      False       0.79      0.98      0.88       740\n",
      "       True       0.85      0.27      0.41       260\n",
      "\n",
      "avg / total       0.81      0.80      0.76      1000\n",
      "\n",
      "---------------------------------------------------------------------------\n"
     ]
    },
    {
     "data": {
      "image/png": "[encoded data removed]",
      "text/plain": [
       "<matplotlib.figure.Figure at 0x7f60a0c33a58>"
      ]
     },
     "metadata": {},
     "output_type": "display_data"
    },
    {
     "name": "stdout",
     "output_type": "stream",
     "text": [
      "Logistic Regression, C = 0.01\n",
      "---------------------------------------------------------------------------\n",
      "Accuracy:  0.774\n",
      "Area under curve of ROC:  0.565384615385\n",
      "Classification report:\n",
      "\n",
      "             precision    recall  f1-score   support\n",
      "\n",
      "      False       0.77      1.00      0.87       740\n",
      "       True       1.00      0.13      0.23       260\n",
      "\n",
      "avg / total       0.83      0.77      0.70      1000\n",
      "\n",
      "---------------------------------------------------------------------------\n"
     ]
    },
    {
     "data": {
      "image/png": "[encoded data removed]",
      "text/plain": [
       "<matplotlib.figure.Figure at 0x7f6085937a90>"
      ]
     },
     "metadata": {},
     "output_type": "display_data"
    }
   ],
   "source": [
    "# Logistic Regression\n",
    "\n",
    "C = 0.01 #(For now)\n",
    "\n",
    "modelLogit = LogisticRegression(penalty='l2', C=C)\n",
    "\n",
    "modelLogit.fit(tVector,trainLabel)\n",
    "score_rep(devLabel,modelLogit.predict(dVector),'Logistic Regression, C = 0.01')\n",
    "roc_curve1(devLabel, modelLogit.decision_function(dVector))\n",
    "\n",
    "\n",
    "modelLogit.fit(tVector_p,trainLabel)\n",
    "score_rep(devLabel,modelLogit.predict(dVector_p),'Logistic Regression, C = 0.01')\n",
    "roc_curve1(devLabel, modelLogit.decision_function(dVector_p))\n",
    "\n",
    "\n"
   ]
  },
  {
   "cell_type": "markdown",
   "metadata": {},
   "source": [
    "## Naive Bayes"
   ]
  },
  {
   "cell_type": "code",
   "execution_count": 111,
   "metadata": {},
   "outputs": [
    {
     "name": "stdout",
     "output_type": "stream",
     "text": [
      "Naive Bayes, alpha = 0.01\n",
      "---------------------------------------------------------------------------\n",
      "Accuracy:  0.313\n",
      "Area under curve of ROC:  0.532068607069\n",
      "Classification report:\n",
      "\n",
      "             precision    recall  f1-score   support\n",
      "\n",
      "      False       0.95      0.08      0.14       740\n",
      "       True       0.27      0.99      0.43       260\n",
      "\n",
      "avg / total       0.77      0.31      0.22      1000\n",
      "\n",
      "---------------------------------------------------------------------------\n"
     ]
    },
    {
     "data": {
      "image/png": "[encoded data removed]",
      "text/plain": [
       "<matplotlib.figure.Figure at 0x7f60853ed080>"
      ]
     },
     "metadata": {},
     "output_type": "display_data"
    },
    {
     "name": "stdout",
     "output_type": "stream",
     "text": [
      "Naive Bayes, alpha = 0.01\n",
      "---------------------------------------------------------------------------\n",
      "Accuracy:  0.745\n",
      "Area under curve of ROC:  0.697972972973\n",
      "Classification report:\n",
      "\n",
      "             precision    recall  f1-score   support\n",
      "\n",
      "      False       0.85      0.80      0.82       740\n",
      "       True       0.51      0.60      0.55       260\n",
      "\n",
      "avg / total       0.76      0.74      0.75      1000\n",
      "\n",
      "---------------------------------------------------------------------------\n"
     ]
    },
    {
     "data": {
      "image/png": "[encoded data removed]",
      "text/plain": [
       "<matplotlib.figure.Figure at 0x7f60850cecf8>"
      ]
     },
     "metadata": {},
     "output_type": "display_data"
    }
   ],
   "source": [
    "# Multinomial NB\n",
    "\n",
    "alpha = 0.01\n",
    "\n",
    "clf = BernoulliNB(alpha=alpha)\n",
    "\n",
    "clf.fit(tVector, trainLabel)\n",
    "score_rep(devLabel, clf.predict(dVector),'Naive Bayes, alpha = 0.01')\n",
    "roc_curve1(devLabel, -clf.predict_log_proba(dVector)[:,0])\n",
    "\n",
    "\n",
    "clf.fit(tVector_p, trainLabel)\n",
    "score_rep(devLabel,clf.predict(dVector_p),'Naive Bayes, alpha = 0.01')\n",
    "roc_curve1(devLabel, -clf.predict_log_proba(dVector_p)[:,0])\n"
   ]
  },
  {
   "cell_type": "code",
   "execution_count": 112,
   "metadata": {},
   "outputs": [
    {
     "name": "stdout",
     "output_type": "stream",
     "text": [
      "Random Forest\n",
      "---------------------------------------------------------------------------\n",
      "Accuracy:  0.805\n",
      "Area under curve of ROC:  0.69235966736\n",
      "Classification report:\n",
      "\n",
      "             precision    recall  f1-score   support\n",
      "\n",
      "      False       0.83      0.93      0.88       740\n",
      "       True       0.69      0.46      0.55       260\n",
      "\n",
      "avg / total       0.79      0.81      0.79      1000\n",
      "\n",
      "---------------------------------------------------------------------------\n"
     ]
    },
    {
     "data": {
      "image/png": "[encoded data removed]",
      "text/plain": [
       "<matplotlib.figure.Figure at 0x7f60849c0080>"
      ]
     },
     "metadata": {},
     "output_type": "display_data"
    },
    {
     "name": "stdout",
     "output_type": "stream",
     "text": [
      "Random Forest\n",
      "---------------------------------------------------------------------------\n",
      "Accuracy:  0.82\n",
      "Area under curve of ROC:  0.677546777547\n",
      "Classification report:\n",
      "\n",
      "             precision    recall  f1-score   support\n",
      "\n",
      "      False       0.82      0.97      0.89       740\n",
      "       True       0.84      0.38      0.52       260\n",
      "\n",
      "avg / total       0.82      0.82      0.79      1000\n",
      "\n",
      "---------------------------------------------------------------------------\n"
     ]
    },
    {
     "data": {
      "image/png": "[encoded data removed]",
      "text/plain": [
       "<matplotlib.figure.Figure at 0x7f6084f50ef0>"
      ]
     },
     "metadata": {},
     "output_type": "display_data"
    }
   ],
   "source": [
    "RF = RandomForestClassifier(n_estimators=50)\n",
    "\n",
    "RF.fit(tVector, trainLabel)\n",
    "score_rep(devLabel, RF.predict(dVector),'Random Forest')\n",
    "roc_curve1(devLabel, -RF.predict_proba(dVector)[:,0])\n",
    "\n",
    "\n",
    "RF.fit(tVector_p, trainLabel)\n",
    "score_rep(devLabel,RF.predict(dVector_p),'Random Forest')\n",
    "roc_curve1(devLabel, -RF.predict_proba(dVector_p)[:,0])"
   ]
  },
  {
   "cell_type": "markdown",
   "metadata": {},
   "source": [
    "# Reducing vocabulary (doesn't work)"
   ]
  },
  {
   "cell_type": "code",
   "execution_count": 36,
   "metadata": {},
   "outputs": [
    {
     "name": "stdout",
     "output_type": "stream",
     "text": [
      "\n",
      "Logistic Regression f1-score with C =  0.100:\n",
      "0.0569395017794\n",
      "Number of non-zero elements: 61\n",
      "Vocabulary size: 61\n",
      "\n",
      "Logistic Regression (using l2) f1-score with C =  0.100:\n",
      "0.138613861386\n",
      "Logistic Regression\n",
      "---------------------------------------------------------------------------\n",
      "Accuracy:  0.739\n",
      "Area under curve of ROC:  0.52551975052\n",
      "Classification report:\n",
      "\n",
      "             precision    recall  f1-score   support\n",
      "\n",
      "      False       0.75      0.97      0.85       740\n",
      "       True       0.49      0.08      0.14       260\n",
      "\n",
      "avg / total       0.68      0.74      0.66      1000\n",
      "\n",
      "---------------------------------------------------------------------------\n",
      "\n",
      "Logistic Regression f1-score with C =  1.000:\n",
      "0.297169811321\n",
      "Number of non-zero elements: 1105\n",
      "Vocabulary size: 1105\n",
      "\n",
      "Logistic Regression (using l2) f1-score with C =  1.000:\n",
      "0.284403669725\n",
      "Logistic Regression\n",
      "---------------------------------------------------------------------------\n",
      "Accuracy:  0.688\n",
      "Area under curve of ROC:  0.542203742204\n",
      "Classification report:\n",
      "\n",
      "             precision    recall  f1-score   support\n",
      "\n",
      "      False       0.76      0.85      0.80       740\n",
      "       True       0.35      0.24      0.28       260\n",
      "\n",
      "avg / total       0.65      0.69      0.67      1000\n",
      "\n",
      "---------------------------------------------------------------------------\n"
     ]
    },
    {
     "data": {
      "image/png": "[encoded data removed]",
      "text/plain": [
       "<matplotlib.figure.Figure at 0x7fe55ddef208>"
      ]
     },
     "metadata": {},
     "output_type": "display_data"
    }
   ],
   "source": [
    "\n",
    "# Keep this random seed here to make comparison easier.\n",
    "np.random.seed(101)\n",
    "\n",
    "### STUDENT START ###\n",
    "\n",
    "# Countvectorizer options: turns on lower case, strip accents, and stop-words\n",
    "vectorizer = CountVectorizer(min_df=2, max_df=0.95, lowercase=True, stop_words='english', \n",
    "                             strip_accents='unicode', ngram_range=(1,4))\n",
    "\n",
    "def LR1(C):\n",
    "\n",
    "    \"\"\"\n",
    "    Function estimates an LR with l1 regularization and counts number of nonzero weights\n",
    "    Returns coefficient array\n",
    "    \"\"\"\n",
    "\n",
    "    # Preprocess data\n",
    "    train_data_v = vectorizer.fit_transform(data_preprocessor(trainCorpus))\n",
    "    dev_data_v = vectorizer.transform(data_preprocessor(devCorpus))\n",
    "\n",
    "    # Run the LR regression, l1 regularization, solving using liblinear [note: l1 doesn't work with multinomial]\n",
    "    clf = LogisticRegression(penalty='l1', C=C)\n",
    "    clf.fit(train_data_v,trainLabel)\n",
    "    test_predicted_labels = clf.predict(dev_data_v)\n",
    "\n",
    "    print ('\\nLogistic Regression f1-score with C = %6.3f:' %C )\n",
    "    print (metrics.f1_score(devLabel,test_predicted_labels))\n",
    "    print ('Number of non-zero elements: %d' %(np.count_nonzero(clf.coef_)))\n",
    "\n",
    "    return clf.coef_\n",
    "\n",
    "def LR2(C,lvocab):\n",
    "    \"\"\"\n",
    "    Calls LR with l2 for given vocab\n",
    "    Returns vocab size and accuracy\n",
    "    \"\"\"\n",
    "\n",
    "    # Define new vectorizer with vocab = vocab\n",
    "    vectorizer1 = CountVectorizer(lowercase=True, strip_accents='unicode',\n",
    "                                  stop_words='english',vocabulary=lvocab)\n",
    "\n",
    "    # Preprocess data using new vectorizer\n",
    "    train_data_v1 = vectorizer1.fit_transform(data_preprocessor(trainCorpus))\n",
    "    dev_data_v1 = vectorizer1.transform(data_preprocessor(devCorpus))\n",
    "\n",
    "    # Run the LR regression, l2 regularization, solving using sag\n",
    "    clf1 = LogisticRegression(penalty='l2', tol=0.01, C=C)\n",
    "    clf1.fit(train_data_v1,trainLabel)\n",
    "    test_predicted_labels = clf1.predict(dev_data_v1)\n",
    "\n",
    "    print ('\\nLogistic Regression (using l2) f1-score with C = %6.3f:' %C )\n",
    "    print (metrics.f1_score(devLabel,test_predicted_labels))\n",
    "    score_rep(devLabel,test_predicted_labels,'Logistic Regression')\n",
    "\n",
    "\n",
    "    return (len(lvocab),metrics.f1_score(devLabel,test_predicted_labels) )\n",
    "\n",
    "def create_vocab_list(s):\n",
    "    \"\"\"\n",
    "    inputs - clf.coef_\n",
    "    output - list of vocabulary\n",
    "    creates a list of vocabulary corresponding to non-zero features\n",
    "    \"\"\"\n",
    "\n",
    "    def build_vocab (s):\n",
    "        temp = []\n",
    "        for i in range (len(s)):\n",
    "            temp.append(s[i])\n",
    "        return temp\n",
    "\n",
    "    def build_vocab_list(s):\n",
    "        temp = []\n",
    "        for i in range(1):\n",
    "            y = np.nonzero(s[i])\n",
    "            y = list(y[0])\n",
    "            temp = temp + build_vocab(y)\n",
    "        temp = list(set(temp))    \n",
    "        return temp\n",
    "\n",
    "    vocab = build_vocab_list(s) \n",
    "\n",
    "    x = vectorizer.get_feature_names()\n",
    "\n",
    "    temp = []\n",
    "\n",
    "    for vocab in vocab:\n",
    "        temp.append(x[vocab])\n",
    "\n",
    "    return temp\n",
    "\n",
    "# Main program\n",
    "\n",
    "C = [1e-1, 1] #2, 5, 10, 20, 50, 100, 200, 500, 1000 ] # Run over various C\n",
    "\n",
    "a, b = [], []\n",
    "for C in C:\n",
    "    z = LR1(C) # Call this function to estimate LR with L1, z is the matrix of coef\n",
    "    lvocab = create_vocab_list(z) # Call this function to create vocab list where coef not equal zero\n",
    "    print ('Vocabulary size: %d' %len(lvocab))\n",
    "    x, y = LR2(C,lvocab) # Call new LR estimate with L2\n",
    "    a.append(x)\n",
    "    b.append(y)\n",
    "\n",
    "# Plot vocabulary size vs accuracy\n",
    "\n",
    "plt.plot(a,b)\n",
    "plt.xlabel('Vocabulary')\n",
    "plt.ylabel('Accuracy (F1 score)')\n",
    "plt.show()\n",
    "\n"
   ]
  },
  {
   "cell_type": "markdown",
   "metadata": {},
   "source": [
    "# Using l1 to choose features (doesn't work)"
   ]
  },
  {
   "cell_type": "code",
   "execution_count": 28,
   "metadata": {
    "scrolled": true
   },
   "outputs": [
    {
     "name": "stdout",
     "output_type": "stream",
     "text": [
      "For C =  0.0001 Logistic regression accuracy: 0.74\n",
      "Logistic Regression, C = 0.01\n",
      "---------------------------------------------------------------------------\n",
      "Accuracy:  0.74\n",
      "Area under curve of ROC:  0.5\n",
      "Classification report:\n",
      "\n",
      "             precision    recall  f1-score   support\n",
      "\n",
      "      False       0.74      1.00      0.85       740\n",
      "       True       0.00      0.00      0.00       260\n",
      "\n",
      "avg / total       0.55      0.74      0.63      1000\n",
      "\n",
      "---------------------------------------------------------------------------\n",
      "For C =  0.001 Logistic regression accuracy: 0.74\n",
      "Logistic Regression, C = 0.01\n",
      "---------------------------------------------------------------------------\n",
      "Accuracy:  0.74\n",
      "Area under curve of ROC:  0.5\n",
      "Classification report:\n",
      "\n",
      "             precision    recall  f1-score   support\n",
      "\n",
      "      False       0.74      1.00      0.85       740\n",
      "       True       0.00      0.00      0.00       260\n",
      "\n",
      "avg / total       0.55      0.74      0.63      1000\n",
      "\n",
      "---------------------------------------------------------------------------\n",
      "For C =  0.01 Logistic regression accuracy: 0.74\n",
      "Logistic Regression, C = 0.01\n",
      "---------------------------------------------------------------------------\n",
      "Accuracy:  0.74\n",
      "Area under curve of ROC:  0.5\n",
      "Classification report:\n",
      "\n",
      "             precision    recall  f1-score   support\n",
      "\n",
      "      False       0.74      1.00      0.85       740\n",
      "       True       0.00      0.00      0.00       260\n",
      "\n",
      "avg / total       0.55      0.74      0.63      1000\n",
      "\n",
      "---------------------------------------------------------------------------\n",
      "For C =  0.1 Logistic regression accuracy: 0.74\n",
      "Logistic Regression, C = 0.01\n",
      "---------------------------------------------------------------------------\n",
      "Accuracy:  0.74\n",
      "Area under curve of ROC:  0.5\n",
      "Classification report:\n",
      "\n",
      "             precision    recall  f1-score   support\n",
      "\n",
      "      False       0.74      1.00      0.85       740\n",
      "       True       0.00      0.00      0.00       260\n",
      "\n",
      "avg / total       0.55      0.74      0.63      1000\n",
      "\n",
      "---------------------------------------------------------------------------\n",
      "For C =  0.5 Logistic regression accuracy: 0.739\n",
      "Logistic Regression, C = 0.01\n",
      "---------------------------------------------------------------------------\n",
      "Accuracy:  0.739\n",
      "Area under curve of ROC:  0.499324324324\n",
      "Classification report:\n",
      "\n",
      "             precision    recall  f1-score   support\n",
      "\n",
      "      False       0.74      1.00      0.85       740\n",
      "       True       0.00      0.00      0.00       260\n",
      "\n",
      "avg / total       0.55      0.74      0.63      1000\n",
      "\n",
      "---------------------------------------------------------------------------\n",
      "For C =  1.0 Logistic regression accuracy: 0.741\n",
      "Logistic Regression, C = 0.01\n",
      "---------------------------------------------------------------------------\n",
      "Accuracy:  0.741\n",
      "Area under curve of ROC:  0.510654885655\n",
      "Classification report:\n",
      "\n",
      "             precision    recall  f1-score   support\n",
      "\n",
      "      False       0.74      0.99      0.85       740\n",
      "       True       0.53      0.03      0.06       260\n",
      "\n",
      "avg / total       0.69      0.74      0.64      1000\n",
      "\n",
      "---------------------------------------------------------------------------\n",
      "For C =  2.0 Logistic regression accuracy: 0.727\n",
      "Logistic Regression, C = 0.01\n",
      "---------------------------------------------------------------------------\n",
      "Accuracy:  0.727\n",
      "Area under curve of ROC:  0.522401247401\n",
      "Classification report:\n",
      "\n",
      "             precision    recall  f1-score   support\n",
      "\n",
      "      False       0.75      0.95      0.84       740\n",
      "       True       0.40      0.10      0.15       260\n",
      "\n",
      "avg / total       0.66      0.73      0.66      1000\n",
      "\n",
      "---------------------------------------------------------------------------\n",
      "For C =  6.0 Logistic regression accuracy: 0.694\n",
      "Logistic Regression, C = 0.01\n",
      "---------------------------------------------------------------------------\n",
      "Accuracy:  0.694\n",
      "Area under curve of ROC:  0.54501039501\n",
      "Classification report:\n",
      "\n",
      "             precision    recall  f1-score   support\n",
      "\n",
      "      False       0.76      0.86      0.81       740\n",
      "       True       0.36      0.23      0.29       260\n",
      "\n",
      "avg / total       0.66      0.69      0.67      1000\n",
      "\n",
      "---------------------------------------------------------------------------\n"
     ]
    },
    {
     "name": "stderr",
     "output_type": "stream",
     "text": [
      "/home/levi/anaconda3/lib/python3.6/site-packages/sklearn/metrics/classification.py:1113: UndefinedMetricWarning: Precision and F-score are ill-defined and being set to 0.0 in labels with no predicted samples.\n",
      "  'precision', 'predicted', average, warn_for)\n"
     ]
    },
    {
     "name": "stdout",
     "output_type": "stream",
     "text": [
      "For C =  10.0 Logistic regression accuracy: 0.677\n",
      "Logistic Regression, C = 0.01\n",
      "---------------------------------------------------------------------------\n",
      "Accuracy:  0.677\n",
      "Area under curve of ROC:  0.544750519751\n",
      "Classification report:\n",
      "\n",
      "             precision    recall  f1-score   support\n",
      "\n",
      "      False       0.76      0.82      0.79       740\n",
      "       True       0.34      0.27      0.30       260\n",
      "\n",
      "avg / total       0.65      0.68      0.66      1000\n",
      "\n",
      "---------------------------------------------------------------------------\n",
      "Logistic Regression\n",
      "---------------------------------------------------------------------------\n",
      "Accuracy:  0.74\n",
      "Area under curve of ROC:  0.5\n",
      "Classification report:\n",
      "\n",
      "             precision    recall  f1-score   support\n",
      "\n",
      "      False       0.74      1.00      0.85       740\n",
      "       True       0.00      0.00      0.00       260\n",
      "\n",
      "avg / total       0.55      0.74      0.63      1000\n",
      "\n",
      "---------------------------------------------------------------------------\n"
     ]
    },
    {
     "data": {
      "image/png": "[encoded data removed]",
      "text/plain": [
       "<matplotlib.figure.Figure at 0x7fe55e217e10>"
      ]
     },
     "metadata": {},
     "output_type": "display_data"
    },
    {
     "name": "stdout",
     "output_type": "stream",
     "text": [
      "1.82783966463\n",
      "\n",
      "Top 5 Weighted Features:\n",
      "1746\n",
      "budgeted 0.81505745361\n",
      "1082\n",
      "beautifu 0.909324213061\n",
      "2418\n",
      "cities 1.19639445542\n",
      "857\n",
      "awesome help 1.19926956084\n",
      "1397\n",
      "boss 1.82783966463\n"
     ]
    }
   ],
   "source": [
    "# get the best regularization\n",
    "regStrength = [0.0001, 0.001, 0.01, 0.1, 0.5, 1.0, 2.0, 6.0, 10.0]\n",
    "\n",
    "\n",
    "for c in regStrength:\n",
    "    modelLogit = LogisticRegression(penalty='l1', C=c)\n",
    "    modelLogit.fit(tVector_p, trainLabel)\n",
    "    logitScore = round(modelLogit.score(dVector_p, devLabel), 4)\n",
    "    print(\"For C = \", c, \"Logistic regression accuracy:\", logitScore)\n",
    "    score_rep(devLabel,modelLogit.predict(dVector_p),'Logistic Regression, C = 0.01')\n",
    "\n",
    "\n",
    "# although the best score comes from c=.001, the bet F1-score \n",
    "# comes from c=.5, and this gives better weight options\n",
    "modelLogit = LogisticRegression(penalty='l1', C=.5, tol = .1)\n",
    "modelLogit.fit(tVector_p, trainLabel)\n",
    "score_rep(devLabel,modelLogit.predict(dVector_p),'Logistic Regression')\n",
    "roc_curve1(devLabel, modelLogit.predict_proba(dVector_p)[:,0])\n",
    "\n",
    "\n",
    "print(max(modelLogit.coef_[0]))\n",
    "numWeights = 5\n",
    "\n",
    "sortIndex = np.argsort(modelLogit.coef_)\n",
    "iLen = len(sortIndex[0])\n",
    "print(\"\\nTop\", numWeights, \"Weighted Features:\")\n",
    "\n",
    "for index in range((iLen - numWeights) , iLen):\n",
    "    lookup = sortIndex[0][index]\n",
    "    print(lookup)\n",
    "    weight =  modelLogit.coef_[0][lookup]\n",
    "    print(vectorizer.get_feature_names()[sortIndex[0][index]], weight)"
   ]
  },
  {
   "cell_type": "markdown",
   "metadata": {},
   "source": [
    "# PCA/LDA to reduce dimension"
   ]
  },
  {
   "cell_type": "code",
   "execution_count": 56,
   "metadata": {},
   "outputs": [
    {
     "data": {
      "image/png": "[encoded data removed]",
      "text/plain": [
       "<matplotlib.figure.Figure at 0x7fe55e2699e8>"
      ]
     },
     "metadata": {},
     "output_type": "display_data"
    },
    {
     "name": "stdout",
     "output_type": "stream",
     "text": [
      "Random Forest\n",
      "---------------------------------------------------------------------------\n",
      "Accuracy:  0.739\n",
      "Area under curve of ROC:  0.505561330561\n",
      "Classification report:\n",
      "\n",
      "             precision    recall  f1-score   support\n",
      "\n",
      "      False       0.74      0.99      0.85       740\n",
      "       True       0.45      0.02      0.04       260\n",
      "\n",
      "avg / total       0.67      0.74      0.64      1000\n",
      "\n",
      "---------------------------------------------------------------------------\n"
     ]
    },
    {
     "data": {
      "image/png": "[encoded data removed]",
      "text/plain": [
       "<matplotlib.figure.Figure at 0x7fe55628da90>"
      ]
     },
     "metadata": {},
     "output_type": "display_data"
    },
    {
     "name": "stdout",
     "output_type": "stream",
     "text": [
      "Naive Bayes, alpha = 0.01\n",
      "---------------------------------------------------------------------------\n",
      "Accuracy:  0.716\n",
      "Area under curve of ROC:  0.546153846154\n",
      "Classification report:\n",
      "\n",
      "             precision    recall  f1-score   support\n",
      "\n",
      "      False       0.76      0.90      0.82       740\n",
      "       True       0.40      0.19      0.26       260\n",
      "\n",
      "avg / total       0.67      0.72      0.68      1000\n",
      "\n",
      "---------------------------------------------------------------------------\n"
     ]
    },
    {
     "data": {
      "image/png": "[encoded data removed]",
      "text/plain": [
       "<matplotlib.figure.Figure at 0x7fe55de8d780>"
      ]
     },
     "metadata": {},
     "output_type": "display_data"
    },
    {
     "name": "stdout",
     "output_type": "stream",
     "text": [
      "Logistic Regression, C = 0.01\n",
      "---------------------------------------------------------------------------\n",
      "Accuracy:  0.656\n",
      "Area under curve of ROC:  0.538045738046\n",
      "Classification report:\n",
      "\n",
      "             precision    recall  f1-score   support\n",
      "\n",
      "      False       0.76      0.78      0.77       740\n",
      "       True       0.32      0.29      0.31       260\n",
      "\n",
      "avg / total       0.65      0.66      0.65      1000\n",
      "\n",
      "---------------------------------------------------------------------------\n"
     ]
    },
    {
     "data": {
      "image/png": "[encoded data removed]",
      "text/plain": [
       "<matplotlib.figure.Figure at 0x7fe55e484518>"
      ]
     },
     "metadata": {},
     "output_type": "display_data"
    }
   ],
   "source": [
    "pca = TruncatedSVD(n_components=600)\n",
    "\n",
    "vectorizer = CountVectorizer(min_df=2, max_df=0.95, lowercase=True, stop_words='english', \n",
    "                             strip_accents='unicode', ngram_range=(1,1))\n",
    "\n",
    "tVector = vectorizer.fit_transform(data_preprocessor(trainCorpus))\n",
    "dVector = vectorizer.transform(data_preprocessor(devCorpus))\n",
    "\n",
    "#print(tVector.shape)\n",
    "\n",
    "tVector_s = pca.fit(tVector)\n",
    "dVector_s = pca.fit(dVector)\n",
    "\n",
    "plt.figure(1, figsize=(4, 3))\n",
    "plt.clf()\n",
    "plt.axes([.2, .2, .7, .7])\n",
    "plt.plot(np.cumsum(pca.explained_variance_ratio_), linewidth=2)\n",
    "plt.axis('tight')\n",
    "plt.xlabel('n_components')\n",
    "plt.ylabel('explained_variance_')\n",
    "plt.show()\n",
    "\n",
    "RF = RandomForestClassifier(n_estimators=600)\n",
    "\n",
    "RF.fit(tVector, trainLabel)\n",
    "score_rep(devLabel, RF.predict(dVector),'Random Forest')\n",
    "roc_curve1(devLabel, RF.predict_proba(dVector)[:,0])\n",
    "\n",
    "\n",
    "alpha = 0.01\n",
    "\n",
    "clf = BernoulliNB(alpha=alpha)\n",
    "\n",
    "clf.fit(tVector, trainLabel)\n",
    "score_rep(devLabel, clf.predict(dVector),'Naive Bayes, alpha = 0.01')\n",
    "roc_curve1(devLabel, clf.predict_proba(dVector)[:,0])\n",
    "\n",
    "C = 100 #(For now)\n",
    "\n",
    "modelLogit = LogisticRegression(penalty='l2', C=C)\n",
    "\n",
    "modelLogit.fit(tVector,trainLabel)\n",
    "score_rep(devLabel,modelLogit.predict(dVector),'Logistic Regression, C = 0.01')\n",
    "roc_curve1(devLabel, modelLogit.predict_proba(dVector)[:,0])\n",
    "\n",
    "\n"
   ]
  },
  {
   "cell_type": "markdown",
   "metadata": {},
   "source": [
    "# NLTK Modules"
   ]
  },
  {
   "cell_type": "code",
   "execution_count": 12,
   "metadata": {},
   "outputs": [
    {
     "name": "stdout",
     "output_type": "stream",
     "text": [
      "97\n",
      "[' ', 'e', 't', 'o', 'a', 'n', 'i', 's', 'r', 'h', 'l', 'd', 'u', 'm', 'y', 'g', 'f', 'p', 'c', 'w', '.', 'b', 'I', 'k', 'v', ',', 'z', \"'\", '\\n', 'R', 'T', ']', 'S', '[', 'A', 'q', 'j', 'E', '!', ')', 'M', 'P', '(', 'W', '/', 'H', ':', 'x', 'U', 'C', '-', 'N', 'O', 'D', 'F', 'B', '2', 'L', '0', '1', 'Q', '?', '3', '*', 'G', 'J', '5', 'Y', '4', ';', '\"', 'K', '_', '$', '6', '7', 'V', '8', '&', '9', 'Z', 'X', '=', '~', '+', '}', '{', '%', '£', '^', '#', '\\r', 'é', '@', '\\\\', '|', '`']\n"
     ]
    }
   ],
   "source": [
    "sentim_analyzer = SentimentAnalyzer()\n",
    "all_words_neg = sentim_analyzer.all_words(trainCorpus)\n",
    "\n",
    "unigram_feats = sentim_analyzer.unigram_word_feats(all_words_neg, min_freq=4)\n",
    "print(len(unigram_feats))\n",
    "print(unigram_feats)\n",
    "\n",
    "sentim_analyzer.add_feat_extractor(extract_unigram_feats, unigrams=unigram_feats)\n",
    "\n",
    "training_set = sentim_analyzer.apply_features(trainCorpus)\n",
    "test_set = sentim_analyzer.apply_features(devCorpus)\n",
    "\n",
    "\n",
    "\n"
   ]
  },
  {
   "cell_type": "code",
   "execution_count": null,
   "metadata": {
    "collapsed": true
   },
   "outputs": [],
   "source": []
  },
  {
   "cell_type": "markdown",
   "metadata": {},
   "source": [
    "## User Status models"
   ]
  },
  {
   "cell_type": "code",
   "execution_count": 21,
   "metadata": {},
   "outputs": [
    {
     "name": "stdout",
     "output_type": "stream",
     "text": [
      "For model with Request/Retrieval/Request-Retrieval Difference only\n",
      "Accuracy: 0.737\n",
      "F1 score: 0.0\n",
      "\n",
      "For model with Request / Retrieval Z-scores only :\n",
      "Accuracy: 0.737\n",
      "F1 score: 0.0\n",
      "\n",
      "For model with Request-Retrieval Z-Score only\n",
      "Accuracy: 0.738\n",
      "F1 score: 0.0\n"
     ]
    },
    {
     "ename": "ValueError",
     "evalue": "could not convert string to float: 'shroom'",
     "output_type": "error",
     "traceback": [
      "\u001b[0;31m---------------------------------------------------------------------------\u001b[0m",
      "\u001b[0;31mValueError\u001b[0m                                Traceback (most recent call last)",
      "\u001b[0;32m<ipython-input-21-72f094d558c3>\u001b[0m in \u001b[0;36m<module>\u001b[0;34m()\u001b[0m\n\u001b[1;32m     49\u001b[0m \u001b[0mzcomb_dev\u001b[0m\u001b[0;34m.\u001b[0m\u001b[0mreplace\u001b[0m\u001b[0;34m(\u001b[0m\u001b[0;34m[\u001b[0m\u001b[0;34m'None'\u001b[0m\u001b[0;34m,\u001b[0m \u001b[0;34m'shroom'\u001b[0m\u001b[0;34m,\u001b[0m \u001b[0;34m'PIF'\u001b[0m\u001b[0;34m]\u001b[0m\u001b[0;34m,\u001b[0m \u001b[0;34m[\u001b[0m\u001b[0;34m-\u001b[0m\u001b[0;36m1\u001b[0m\u001b[0;34m,\u001b[0m \u001b[0;36m0\u001b[0m\u001b[0;34m,\u001b[0m \u001b[0;36m1\u001b[0m\u001b[0;34m]\u001b[0m\u001b[0;34m)\u001b[0m\u001b[0;34m\u001b[0m\u001b[0m\n\u001b[1;32m     50\u001b[0m \u001b[0;34m\u001b[0m\u001b[0m\n\u001b[0;32m---> 51\u001b[0;31m \u001b[0mzcomb_model\u001b[0m \u001b[0;34m=\u001b[0m \u001b[0mlr\u001b[0m\u001b[0;34m.\u001b[0m\u001b[0mfit\u001b[0m\u001b[0;34m(\u001b[0m\u001b[0mzcomb_train\u001b[0m\u001b[0;34m,\u001b[0m \u001b[0mtrain_labels\u001b[0m\u001b[0;34m)\u001b[0m\u001b[0;34m\u001b[0m\u001b[0m\n\u001b[0m\u001b[1;32m     52\u001b[0m \u001b[0mzcomb_labels\u001b[0m \u001b[0;34m=\u001b[0m \u001b[0mzcomb_model\u001b[0m\u001b[0;34m.\u001b[0m\u001b[0mpredict\u001b[0m\u001b[0;34m(\u001b[0m\u001b[0mzcomb_dev\u001b[0m\u001b[0;34m)\u001b[0m\u001b[0;34m\u001b[0m\u001b[0m\n\u001b[1;32m     53\u001b[0m \u001b[0mzcomb_score\u001b[0m \u001b[0;34m=\u001b[0m \u001b[0mzcomb_model\u001b[0m\u001b[0;34m.\u001b[0m\u001b[0mscore\u001b[0m\u001b[0;34m(\u001b[0m\u001b[0mzcomb_dev\u001b[0m\u001b[0;34m,\u001b[0m \u001b[0mdev_labels\u001b[0m\u001b[0;34m)\u001b[0m\u001b[0;34m\u001b[0m\u001b[0m\n",
      "\u001b[0;32m/Users/Jen2/anaconda/lib/python3.5/site-packages/sklearn/linear_model/logistic.py\u001b[0m in \u001b[0;36mfit\u001b[0;34m(self, X, y, sample_weight)\u001b[0m\n\u001b[1;32m   1140\u001b[0m \u001b[0;34m\u001b[0m\u001b[0m\n\u001b[1;32m   1141\u001b[0m         X, y = check_X_y(X, y, accept_sparse='csr', dtype=np.float64, \n\u001b[0;32m-> 1142\u001b[0;31m                          order=\"C\")\n\u001b[0m\u001b[1;32m   1143\u001b[0m         \u001b[0mcheck_classification_targets\u001b[0m\u001b[0;34m(\u001b[0m\u001b[0my\u001b[0m\u001b[0;34m)\u001b[0m\u001b[0;34m\u001b[0m\u001b[0m\n\u001b[1;32m   1144\u001b[0m         \u001b[0mself\u001b[0m\u001b[0;34m.\u001b[0m\u001b[0mclasses_\u001b[0m \u001b[0;34m=\u001b[0m \u001b[0mnp\u001b[0m\u001b[0;34m.\u001b[0m\u001b[0munique\u001b[0m\u001b[0;34m(\u001b[0m\u001b[0my\u001b[0m\u001b[0;34m)\u001b[0m\u001b[0;34m\u001b[0m\u001b[0m\n",
      "\u001b[0;32m/Users/Jen2/anaconda/lib/python3.5/site-packages/sklearn/utils/validation.py\u001b[0m in \u001b[0;36mcheck_X_y\u001b[0;34m(X, y, accept_sparse, dtype, order, copy, force_all_finite, ensure_2d, allow_nd, multi_output, ensure_min_samples, ensure_min_features, y_numeric, warn_on_dtype, estimator)\u001b[0m\n\u001b[1;32m    508\u001b[0m     X = check_array(X, accept_sparse, dtype, order, copy, force_all_finite,\n\u001b[1;32m    509\u001b[0m                     \u001b[0mensure_2d\u001b[0m\u001b[0;34m,\u001b[0m \u001b[0mallow_nd\u001b[0m\u001b[0;34m,\u001b[0m \u001b[0mensure_min_samples\u001b[0m\u001b[0;34m,\u001b[0m\u001b[0;34m\u001b[0m\u001b[0m\n\u001b[0;32m--> 510\u001b[0;31m                     ensure_min_features, warn_on_dtype, estimator)\n\u001b[0m\u001b[1;32m    511\u001b[0m     \u001b[0;32mif\u001b[0m \u001b[0mmulti_output\u001b[0m\u001b[0;34m:\u001b[0m\u001b[0;34m\u001b[0m\u001b[0m\n\u001b[1;32m    512\u001b[0m         y = check_array(y, 'csr', force_all_finite=True, ensure_2d=False,\n",
      "\u001b[0;32m/Users/Jen2/anaconda/lib/python3.5/site-packages/sklearn/utils/validation.py\u001b[0m in \u001b[0;36mcheck_array\u001b[0;34m(array, accept_sparse, dtype, order, copy, force_all_finite, ensure_2d, allow_nd, ensure_min_samples, ensure_min_features, warn_on_dtype, estimator)\u001b[0m\n\u001b[1;32m    371\u001b[0m                                       force_all_finite)\n\u001b[1;32m    372\u001b[0m     \u001b[0;32melse\u001b[0m\u001b[0;34m:\u001b[0m\u001b[0;34m\u001b[0m\u001b[0m\n\u001b[0;32m--> 373\u001b[0;31m         \u001b[0marray\u001b[0m \u001b[0;34m=\u001b[0m \u001b[0mnp\u001b[0m\u001b[0;34m.\u001b[0m\u001b[0marray\u001b[0m\u001b[0;34m(\u001b[0m\u001b[0marray\u001b[0m\u001b[0;34m,\u001b[0m \u001b[0mdtype\u001b[0m\u001b[0;34m=\u001b[0m\u001b[0mdtype\u001b[0m\u001b[0;34m,\u001b[0m \u001b[0morder\u001b[0m\u001b[0;34m=\u001b[0m\u001b[0morder\u001b[0m\u001b[0;34m,\u001b[0m \u001b[0mcopy\u001b[0m\u001b[0;34m=\u001b[0m\u001b[0mcopy\u001b[0m\u001b[0;34m)\u001b[0m\u001b[0;34m\u001b[0m\u001b[0m\n\u001b[0m\u001b[1;32m    374\u001b[0m \u001b[0;34m\u001b[0m\u001b[0m\n\u001b[1;32m    375\u001b[0m         \u001b[0;32mif\u001b[0m \u001b[0mensure_2d\u001b[0m\u001b[0;34m:\u001b[0m\u001b[0;34m\u001b[0m\u001b[0m\n",
      "\u001b[0;31mValueError\u001b[0m: could not convert string to float: 'shroom'"
     ]
    }
   ],
   "source": [
    "# LOGISTIC REGRESSION MODELS\n",
    "from sklearn.linear_model import LogisticRegression\n",
    "\n",
    "lr = LogisticRegression(penalty='l2')\n",
    "\n",
    "# create training labels for pizza success\n",
    "train_labels = np.asarray(allTData['requester_received_pizza'])\n",
    "dev_labels = np.asarray(allDData['requester_received_pizza'])\n",
    "\n",
    "# Trial 1: Request / Retrieval \n",
    "diff_alone = np.asarray(statusTtrain[['Request', 'Retrieval']].copy())\n",
    "diff_dev_alone = np.asarray(statusDtrain[['Request', 'Retrieval']].copy())\n",
    "train_model = lr.fit(diff_alone, train_labels)\n",
    "dev_alone_labels = train_model.predict(diff_dev_alone)\n",
    "alone_score = train_model.score(diff_dev_alone, dev_labels)\n",
    "alone_F1score = metrics.f1_score(dev_alone_labels, dev_labels)\n",
    "print(\"For model with Request/Retrieval/Request-Retrieval Difference only\")\n",
    "print(\"Accuracy:\", alone_score)\n",
    "print(\"F1 score:\", alone_F1score)\n",
    "\n",
    "# Trial 2:  Z-scores for Request / Retrieval \n",
    "zdiff_train = statusTtrain[['Request Z-score','Retrieval Z-score']]\n",
    "zdiff_dev = statusDtrain[['Request Z-score','Retrieval Z-score']]\n",
    "zdiff_model = lr.fit(zdiff_train, train_labels)\n",
    "zdiff_labels = zdiff_model.predict(zdiff_dev)\n",
    "zdiff_score = zdiff_model.score(zdiff_dev, dev_labels)\n",
    "zdiff_F1score = metrics.f1_score(zdiff_labels, dev_labels)\n",
    "print(\"\\nFor model with Request / Retrieval Z-scores only :\")\n",
    "print(\"Accuracy:\", zdiff_score)\n",
    "print(\"F1 score:\", zdiff_F1score)\n",
    "\n",
    "# Trial 3:  Z-scores for Request-Retrieval \n",
    "# Create Z-scores request-retrieval\n",
    "diff_combined = np.asarray(statusTtrain[['Request-Retrieval Z-score']].copy())\n",
    "diff_dev_combined = np.asarray(statusDtrain[['Request-Retrieval Z-score']].copy())\n",
    "train_combine_model = lr.fit(diff_combined, train_labels)\n",
    "dev_combine_labels = train_combine_model.predict(diff_dev_combined)\n",
    "combine_score = train_combine_model.score(diff_dev_combined, dev_labels)\n",
    "combine_F1score = metrics.f1_score(dev_combine_labels, dev_labels)\n",
    "print(\"\\nFor model with Request-Retrieval Z-Score only\")\n",
    "print(\"Accuracy:\", combine_score)\n",
    "print(\"F1 score:\", combine_F1score)\n",
    "\n",
    "# Trial 4:  Z-scores for Request / Retrieval / Diff / Flair\n",
    "zcomb_train = statusTtrain[['Request Z-score','Retrieval Z-score','Request-Retrieval Z-score', 'requester_user_flair']]\n",
    "zcomb_train.replace(['None', 'shroom', 'PIF'], [-1, 0, 1])\n",
    "\n",
    "zcomb_dev = statusDtrain[['Request Z-score','Retrieval Z-score','Request-Retrieval Z-score', 'requester_user_flair']]\n",
    "zcomb_dev.replace(['None', 'shroom', 'PIF'], [-1, 0, 1])\n",
    "\n",
    "zcomb_model = lr.fit(zcomb_train, train_labels)\n",
    "zcomb_labels = zcomb_model.predict(zcomb_dev)\n",
    "zcomb_score = zcomb_model.score(zcomb_dev, dev_labels)\n",
    "zcomb_F1score = metrics.f1_score(zcomb_labels, dev_labels)\n",
    "print(\"\\nZ-scores for Request / Retrieval:\")\n",
    "print(\"Accuracy:\", zcomb_score)\n",
    "print(\"F1 score:\", zcomb_F1score)"
   ]
  },
  {
   "cell_type": "markdown",
   "metadata": {},
   "source": [
    "# Future Steps"
   ]
  },
  {
   "cell_type": "markdown",
   "metadata": {},
   "source": [
    "* More data pre-processing (looking for newer features too)\n",
    "* Explore PCA/LSA\n",
    "* Ideas on features\n",
    "    - Combination of words\n",
    "    - Pruning\n",
    "    - Timing (of requests)\n",
    "    - Location\n",
    "    "
   ]
  },
  {
   "cell_type": "code",
   "execution_count": 52,
   "metadata": {},
   "outputs": [
    {
     "name": "stderr",
     "output_type": "stream",
     "text": [
      "Downloading dataset from http://people.csail.mit.edu/jrennie/20Newsgroups/20news-bydate.tar.gz (14 MB)\n"
     ]
    },
    {
     "name": "stdout",
     "output_type": "stream",
     "text": [
      "Loading dataset...\n",
      "done in 28.130s.\n",
      "Extracting tf-idf features for NMF...\n",
      "done in 0.389s.\n",
      "Extracting tf features for LDA...\n",
      "done in 0.344s.\n",
      "Fitting the NMF model with tf-idf features, n_samples=2000 and n_features=1000...\n",
      "done in 0.200s.\n",
      "\n",
      "Topics in NMF model:\n",
      "Topic #0:\n",
      "just people don think like know time good make way really say right ve want did ll new use years\n",
      "Topic #1:\n",
      "windows use dos using window program os drivers application help software pc running ms screen files version card code work\n",
      "Topic #2:\n",
      "god jesus bible faith christian christ christians does heaven sin believe lord life church mary atheism belief human love religion\n",
      "Topic #3:\n",
      "thanks know does mail advance hi info interested email anybody looking card help like appreciated information send list video need\n",
      "Topic #4:\n",
      "car cars tires miles 00 new engine insurance price condition oil power speed good 000 brake year models used bought\n",
      "Topic #5:\n",
      "edu soon com send university internet mit ftp mail cc pub article information hope program mac email home contact blood\n",
      "Topic #6:\n",
      "file problem files format win sound ftp pub read save site help image available create copy running memory self version\n",
      "Topic #7:\n",
      "game team games year win play season players nhl runs goal hockey toronto division flyers player defense leafs bad teams\n",
      "Topic #8:\n",
      "drive drives hard disk floppy software card mac computer power scsi controller apple mb 00 pc rom sale problem internal\n",
      "Topic #9:\n",
      "key chip clipper keys encryption government public use secure enforcement phone nsa communications law encrypted security clinton used legal standard\n",
      "\n",
      "Fitting LDA models with tf features, n_samples=2000 and n_features=1000...\n",
      "done in 2.572s.\n",
      "\n",
      "Topics in LDA model:\n",
      "Topic #0:\n",
      "edu com mail send graphics ftp pub available contact university list faq ca information cs 1993 program sun uk mit\n",
      "Topic #1:\n",
      "don like just know think ve way use right good going make sure ll point got need really time doesn\n",
      "Topic #2:\n",
      "christian think atheism faith pittsburgh new bible radio games alt lot just religion like book read play time subject believe\n",
      "Topic #3:\n",
      "drive disk windows thanks use card drives hard version pc software file using scsi help does new dos controller 16\n",
      "Topic #4:\n",
      "hiv health aids disease april medical care research 1993 light information study national service test led 10 page new drug\n",
      "Topic #5:\n",
      "god people does just good don jesus say israel way life know true fact time law want believe make think\n",
      "Topic #6:\n",
      "55 10 11 18 15 team game 19 period play 23 12 13 flyers 20 25 22 17 24 16\n",
      "Topic #7:\n",
      "car year just cars new engine like bike good oil insurance better tires 000 thing speed model brake driving performance\n",
      "Topic #8:\n",
      "people said did just didn know time like went think children came come don took years say dead told started\n",
      "Topic #9:\n",
      "key space law government public use encryption earth section security moon probe enforcement keys states lunar military crime surface technology\n",
      "\n"
     ]
    }
   ],
   "source": [
    "\n",
    "from __future__ import print_function\n",
    "from time import time\n",
    "\n",
    "from sklearn.feature_extraction.text import TfidfVectorizer, CountVectorizer\n",
    "from sklearn.decomposition import NMF, LatentDirichletAllocation\n",
    "from sklearn.datasets import fetch_20newsgroups\n",
    "\n",
    "n_samples = 2000\n",
    "n_features = 1000\n",
    "n_topics = 10\n",
    "n_top_words = 20\n",
    "\n",
    "\n",
    "def print_top_words(model, feature_names, n_top_words):\n",
    "    for topic_idx, topic in enumerate(model.components_):\n",
    "        print(\"Topic #%d:\" % topic_idx)\n",
    "        print(\" \".join([feature_names[i]\n",
    "                        for i in topic.argsort()[:-n_top_words - 1:-1]]))\n",
    "    print()\n",
    "\n",
    "\n",
    "# Load the 20 newsgroups dataset and vectorize it. We use a few heuristics\n",
    "# to filter out useless terms early on: the posts are stripped of headers,\n",
    "# footers and quoted replies, and common English words, words occurring in\n",
    "# only one document or in at least 95% of the documents are removed.\n",
    "\n",
    "print(\"Loading dataset...\")\n",
    "t0 = time()\n",
    "dataset = fetch_20newsgroups(shuffle=True, random_state=1,\n",
    "                             remove=('headers', 'footers', 'quotes'))\n",
    "data_samples = dataset.data[:n_samples]\n",
    "print(\"done in %0.3fs.\" % (time() - t0))\n",
    "\n",
    "# Use tf-idf features for NMF.\n",
    "print(\"Extracting tf-idf features for NMF...\")\n",
    "tfidf_vectorizer = TfidfVectorizer(max_df=0.95, min_df=2,\n",
    "                                   max_features=n_features,\n",
    "                                   stop_words='english')\n",
    "t0 = time()\n",
    "tfidf = tfidf_vectorizer.fit_transform(data_samples)\n",
    "print(\"done in %0.3fs.\" % (time() - t0))\n",
    "\n",
    "# Use tf (raw term count) features for LDA.\n",
    "print(\"Extracting tf features for LDA...\")\n",
    "tf_vectorizer = CountVectorizer(max_df=0.95, min_df=2,\n",
    "                                max_features=n_features,\n",
    "                                stop_words='english')\n",
    "t0 = time()\n",
    "tf = tf_vectorizer.fit_transform(data_samples)\n",
    "print(\"done in %0.3fs.\" % (time() - t0))\n",
    "\n",
    "# Fit the NMF model\n",
    "print(\"Fitting the NMF model with tf-idf features, \"\n",
    "      \"n_samples=%d and n_features=%d...\"\n",
    "      % (n_samples, n_features))\n",
    "t0 = time()\n",
    "nmf = NMF(n_components=n_topics, random_state=1,\n",
    "          alpha=.1, l1_ratio=.5).fit(tfidf)\n",
    "print(\"done in %0.3fs.\" % (time() - t0))\n",
    "\n",
    "print(\"\\nTopics in NMF model:\")\n",
    "tfidf_feature_names = tfidf_vectorizer.get_feature_names()\n",
    "print_top_words(nmf, tfidf_feature_names, n_top_words)\n",
    "\n",
    "print(\"Fitting LDA models with tf features, \"\n",
    "      \"n_samples=%d and n_features=%d...\"\n",
    "      % (n_samples, n_features))\n",
    "lda = LatentDirichletAllocation(n_topics=n_topics, max_iter=5,\n",
    "                                learning_method='online',\n",
    "                                learning_offset=50.,\n",
    "                                random_state=0)\n",
    "t0 = time()\n",
    "lda.fit(tf)\n",
    "print(\"done in %0.3fs.\" % (time() - t0))\n",
    "\n",
    "print(\"\\nTopics in LDA model:\")\n",
    "tf_feature_names = tf_vectorizer.get_feature_names()\n",
    "print_top_words(lda, tf_feature_names, n_top_words)"
   ]
  },
  {
   "cell_type": "code",
   "execution_count": null,
   "metadata": {
    "collapsed": true
   },
   "outputs": [],
   "source": [
    "def print_top_names(model, feature_names, n_top_words):\n",
    "    for topic_idx, topic in enumerate(model.components_):\n",
    "        print(\"Topic #%d:\" % topic_idx)\n",
    "        print(\" \".join([feature_names[i]\n",
    "                        for i in topic.argsort()[:-n_top_words - 1:-1]]))\n",
    "    print()\n",
    "    \n",
    "    \n",
    "# Applying LDA\n",
    "#lda = LDA(n_topics=100, max_iter=5,learning_method='online', learning_offset=50.,\n",
    "#          random_state=0)\n",
    "#lda.fit(tVector)\n",
    "\n",
    "#print(\"\\nTopics in LDA model:\")\n",
    "#tf_feature_names = vectorizer.get_feature_names()\n",
    "#print_top_words(lda, tf_feature_names,20)\n",
    "\n",
    "#lda = LinearDiscriminantAnalysis(n_components=10)\n",
    "#X_r2 = lda.fit(tVector, trainLabel).transform(tVector)\n",
    "\n",
    "\n",
    "\n"
   ]
  }
 ],
 "metadata": {
  "anaconda-cloud": {},
  "kernelspec": {
   "display_name": "Python 3",
   "language": "python",
   "name": "python3"
  },
  "language_info": {
   "codemirror_mode": {
    "name": "ipython",
    "version": 3
   },
   "file_extension": ".py",
   "mimetype": "text/x-python",
   "name": "python",
   "nbconvert_exporter": "python",
   "pygments_lexer": "ipython3",
   "version": "3.6.0"
  }
 },
 "nbformat": 4,
 "nbformat_minor": 1
}
