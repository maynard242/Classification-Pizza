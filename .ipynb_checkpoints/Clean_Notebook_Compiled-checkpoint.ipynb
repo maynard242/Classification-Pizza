{
 "cells": [
  {
   "cell_type": "markdown",
   "metadata": {},
   "source": [
    "## Random Acts of Pizza\n",
    "\n",
    "W207 Final Project\n",
    "\n",
    "Erika Lawrence, Leslie Teo, Jen Jen Chen, Geoff Stirling"
   ]
  },
  {
   "cell_type": "markdown",
   "metadata": {},
   "source": [
    "\n",
    "_\"The universe is hilarious. Like, Venus is 900 degrees. I could tell you it melts lead. But that's not as fun as saying, 'You can cook a pizza on the windowsill in nine seconds.' And next time my fans eat pizza, they're thinking of Venus!\"_\n",
    "\n",
    "_- Neil deGrasse Tyson_ \n",
    "\n",
    "----------------------------------------------------------------------"
   ]
  },
  {
   "cell_type": "markdown",
   "metadata": {},
   "source": [
    "## Section 1: Setting Up & Processing Data"
   ]
  },
  {
   "cell_type": "code",
   "execution_count": 53,
   "metadata": {},
   "outputs": [],
   "source": [
    "# For figures to show inline\n",
    "%matplotlib inline\n",
    "\n",
    "## Import Libraries ##\n",
    "\n",
    "import json\n",
    "from pprint import pprint\n",
    "from pandas import *\n",
    "from pandas.io.json import json_normalize\n",
    "import pandas as pd\n",
    "\n",
    "# General libraries.\n",
    "import re\n",
    "import numpy as np\n",
    "import matplotlib.pyplot as plt\n",
    "import mlxtend\n",
    "import scipy\n",
    "from IPython.display import display\n",
    "import datetime as dt\n",
    "\n",
    "# SK-learn library for importing the newsgroup data.\n",
    "from sklearn.datasets import fetch_20newsgroups\n",
    "\n",
    "# SK-learn libraries for feature extraction from text.\n",
    "from sklearn.feature_extraction.text import *\n",
    "\n",
    "# SK-learn libraries for pre/processing data\n",
    "from sklearn import preprocessing\n",
    "\n",
    "# NLTK for text processing, analyzing tools\n",
    "from nltk.classify import NaiveBayesClassifier\n",
    "from nltk.tokenize import word_tokenize\n",
    "from nltk.stem.porter import PorterStemmer\n",
    "from nltk.stem import WordNetLemmatizer\n",
    "from nltk.sentiment import SentimentAnalyzer\n",
    "from nltk.sentiment.util import *\n",
    "\n",
    "from sklearn.decomposition import LatentDirichletAllocation as LDA\n",
    "from sklearn.decomposition import TruncatedSVD\n",
    "from sklearn.decomposition import NMF\n",
    "from sklearn.decomposition import PCA\n",
    "from sklearn.discriminant_analysis import LinearDiscriminantAnalysis\n",
    "\n",
    "# SK-lear library for feature selection\n",
    "from sklearn.feature_selection import VarianceThreshold\n",
    "from sklearn.feature_selection import SelectKBest\n",
    "from sklearn.feature_selection import chi2\n",
    "from sklearn.feature_selection import SelectFromModel\n",
    "\n",
    "from vaderSentiment import vaderSentiment\n",
    "\n",
    "# SK-learn libraries for learning\n",
    "from sklearn.pipeline import Pipeline\n",
    "from sklearn.neighbors import KNeighborsClassifier\n",
    "from sklearn.linear_model import LogisticRegression\n",
    "from sklearn.naive_bayes import BernoulliNB\n",
    "from sklearn.naive_bayes import MultinomialNB\n",
    "from sklearn.svm import SVC\n",
    "from sklearn.ensemble import RandomForestClassifier\n",
    "from sklearn.ensemble import AdaBoostClassifier\n",
    "from sklearn.ensemble import BaggingClassifier\n",
    "from mlxtend.classifier import EnsembleVoteClassifier\n",
    "\n",
    "# SK-learn libraries for evaluation\n",
    "from sklearn import metrics\n",
    "from sklearn.metrics import confusion_matrix\n",
    "from sklearn.metrics import classification_report\n",
    "from sklearn.metrics import mean_squared_error\n",
    "#from sklearn import cross_validation\n",
    "from sklearn.model_selection import GridSearchCV\n",
    "#from sklearn.grid_search import GridSearchCV\n",
    "from sklearn.metrics import roc_curve, roc_auc_score, recall_score\n",
    "\n",
    "#from sklearn import ensemble\n",
    "#from sklearn import datasets\n",
    "#from sklearn.utils import shuffle\n",
    "\n",
    "\n",
    "\n",
    "\n",
    "\n",
    "\n",
    "\n"
   ]
  },
  {
   "cell_type": "code",
   "execution_count": 4,
   "metadata": {},
   "outputs": [
    {
     "name": "stdout",
     "output_type": "stream",
     "text": [
      "\n",
      "Size of the normalized Data: (3040, 32)\n",
      "\n",
      "normalized data columns: ['giver_username_if_known', 'number_of_downvotes_of_request_at_retrieval', 'number_of_upvotes_of_request_at_retrieval', 'post_was_edited', 'request_id', 'request_number_of_comments_at_retrieval', 'request_text', 'request_text_edit_aware', 'request_title', 'requester_account_age_in_days_at_request', 'requester_account_age_in_days_at_retrieval', 'requester_days_since_first_post_on_raop_at_request', 'requester_days_since_first_post_on_raop_at_retrieval', 'requester_number_of_comments_at_request', 'requester_number_of_comments_at_retrieval', 'requester_number_of_comments_in_raop_at_request', 'requester_number_of_comments_in_raop_at_retrieval', 'requester_number_of_posts_at_request', 'requester_number_of_posts_at_retrieval', 'requester_number_of_posts_on_raop_at_request', 'requester_number_of_posts_on_raop_at_retrieval', 'requester_number_of_subreddits_at_request', 'requester_received_pizza', 'requester_subreddits_at_request', 'requester_upvotes_minus_downvotes_at_request', 'requester_upvotes_minus_downvotes_at_retrieval', 'requester_upvotes_plus_downvotes_at_request', 'requester_upvotes_plus_downvotes_at_retrieval', 'requester_user_flair', 'requester_username', 'unix_timestamp_of_request', 'unix_timestamp_of_request_utc']\n"
     ]
    }
   ],
   "source": [
    "## Get Data ##\n",
    "\n",
    "# Reference for data: https://www.kaggle.com/c/random-acts-of-pizza/data\n",
    "# Pull in the training and test data\n",
    "with open('data/train.json', encoding='utf-8') as data_file:\n",
    "    trainData = json.loads(data_file.read())   \n",
    "\n",
    "with open('data/test.json', encoding='utf-8') as data_file:\n",
    "    testData = json.loads(data_file.read())    \n",
    "\n",
    "# Create a dev data set \n",
    "devData = trainData[0:1000]\n",
    "trainData = trainData[1000:]\n",
    "\n",
    "# Show how the data looks in its original format\n",
    "#pprint(\"data in json format:\")\n",
    "#pprint(trainData[1])\n",
    "\n",
    "# Create a normalized view\n",
    "allTData = json_normalize(trainData)\n",
    "print(\"\\nSize of the normalized Data:\", allTData.shape)\n",
    "print(\"\\nnormalized data columns:\", list(allTData))\n",
    "\n",
    "allDData = json_normalize(devData)"
   ]
  },
  {
   "cell_type": "code",
   "execution_count": 17,
   "metadata": {},
   "outputs": [
    {
     "name": "stdout",
     "output_type": "stream",
     "text": [
      "(3040, 1)\n",
      "Percent of people who got pizza: 0.241\n"
     ]
    },
    {
     "data": {
      "text/plain": [
       "<matplotlib.text.Text at 0x206d15f2f60>"
      ]
     },
     "execution_count": 17,
     "metadata": {},
     "output_type": "execute_result"
    },
    {
     "data": {
      "image/png": "[encoded data removed]",
      "text/plain": [
       "<matplotlib.figure.Figure at 0x206d15f9cc0>"
      ]
     },
     "metadata": {},
     "output_type": "display_data"
    }
   ],
   "source": [
    "## Create subsets of data for analysis ###\n",
    "\n",
    "# Create a flat dataset without the subreddits list\n",
    "flatData = allTData.drop('requester_subreddits_at_request', 1)\n",
    "# Create a separate dataset with just subreddits, indexed on request id\n",
    "# We can creata a count vector on the words, run Naive Bayes against it, \n",
    "# and add the probabilities to our flat dataset\n",
    "subredTData = allTData[['request_id','requester_subreddits_at_request']]\n",
    "subredTData.set_index('request_id', inplace=True)\n",
    "\n",
    "subredDData= allDData[['request_id','requester_subreddits_at_request']]\n",
    "subredDData.set_index('request_id', inplace=True)\n",
    "\n",
    "# our training labels\n",
    "trainLabel = allTData['requester_received_pizza']\n",
    "\n",
    "devLabel = allDData['requester_received_pizza']\n",
    "\n",
    "# What do these look like?\n",
    "#print(list(flatData))\n",
    "print(subredTData.shape)\n",
    "#print(subredTData['requester_subreddits_at_request'][1])\n",
    "\n",
    "# Create a corpus of subreddits to vectorize\n",
    "trainCorpus = []\n",
    "rTCorpus = []\n",
    "rDCorpus = []\n",
    "\n",
    "for index in range(len(subredTData)):\n",
    "    trainCorpus.append(' '.join(subredTData['requester_subreddits_at_request'][index]))\n",
    "    rTCorpus.append(' '.join(subredTData['requester_subreddits_at_request'][index]))\n",
    "\n",
    "devCorpus = []\n",
    "for index in range(len(subredDData)):\n",
    "    devCorpus.append(' '.join(subredDData['requester_subreddits_at_request'][index]))\n",
    "    rDCorpus.append(' '.join(subredDData['requester_subreddits_at_request'][index]))\n",
    "\n",
    "# Baseline info\n",
    "print(\"\\nPercent of people who got pizza:\", round(sum(trainLabel)/len(trainLabel),3))\n",
    "\n",
    "plt.figure(1,figsize=(10,4))\n",
    "plt.subplot(121)\n",
    "plt.hist(allTData['requester_received_pizza'])\n",
    "plt.title(\"Distribtution of pizza's received in training data\")\n",
    "plt.subplot(122)\n",
    "plt.hist(allDData['requester_received_pizza'])\n",
    "plt.title(\"Distribtution of pizza's received in dev data\")"
   ]
  },
  {
   "cell_type": "code",
   "execution_count": 18,
   "metadata": {},
   "outputs": [
    {
     "name": "stdout",
     "output_type": "stream",
     "text": [
      "[\"FoodstuffsAllAround IAmA RandomActsOfCookies RandomActsofCards RandomKindness Random_Acts_Of_Pizza comiccon cosplay cosplayers So it's been a while since it's happened, but yeah. Just got dumped by a girl I like... My brother has used up pretty much everything in the freezer. I would really appreciate a pizza right now... So it's been a while since it's happened, but yeah. Just got dumped by a girl I like... My brother has used up pretty much everything in the freezer. I would really appreciate a pizza right now... [Request] Just got dumped, no food in the freezer. Pizza?\"]\n",
      "[0]\n",
      "---------------------------------------------------------------------------\n",
      "\n",
      " [' Hi I am in need of food for my 4 children we are a military family that has really hit hard times and we have exahusted all means of help just to be able to feed my family and make it through another night is all i ask i know our blessing is coming so whatever u can find in your heart to give is greatly appreciated Hi I am in need of food for my 4 children we are a military family that has really hit hard times and we have exahusted all means of help just to be able to feed my family and make it through another night is all i ask i know our blessing is coming so whatever u can find in your heart to give is greatly appreciated Request Colorado Springs Help Us Please']\n",
      "[0]\n"
     ]
    }
   ],
   "source": [
    "# Combine all text sources into a single corpus\n",
    "fldTText = allTData[['request_id','request_text', 'request_text_edit_aware', 'request_title']]\n",
    "fldDText = allDData[['request_id','request_text', 'request_text_edit_aware', 'request_title']]\n",
    "\n",
    "trainCorpus = []\n",
    "for index in range(len(subredTData)):\n",
    "    a = ' '.join(subredTData['requester_subreddits_at_request'][index])\n",
    "    b = (a, fldTText['request_text'][index], fldTText['request_text_edit_aware'][index],\n",
    "        fldTText['request_title'][index])\n",
    "    trainCorpus.append(' '.join(b))\n",
    "\n",
    "devCorpus = []\n",
    "for index in range(len(subredDData)):\n",
    "    a = ' '.join(subredDData['requester_subreddits_at_request'][index])\n",
    "    b = (a, fldDText['request_text'][index], fldDText['request_text_edit_aware'][index],\n",
    "         fldDText['request_title'][index])\n",
    "    devCorpus.append(' '.join(b))\n",
    "\n",
    "# Print 3 examples  \n",
    "print (trainCorpus[:1])\n",
    "labels = trainLabel.astype(int)\n",
    "labels = list(labels)\n",
    "print(labels[:1])\n",
    "print('-'*75)\n",
    "\n",
    "print ('\\n' , devCorpus[:1])\n",
    "labels_dev = devLabel.astype(int)\n",
    "labels_dev = list(labels_dev)\n",
    "print(labels_dev[:1])"
   ]
  },
  {
   "cell_type": "markdown",
   "metadata": {},
   "source": [
    "## Section 2: Text Processing, Other Feature Extraction, and Feature Selection"
   ]
  },
  {
   "cell_type": "code",
   "execution_count": 24,
   "metadata": {
    "collapsed": true
   },
   "outputs": [],
   "source": [
    "# Simple Pre-Processing\n",
    "\n",
    "def data_preprocessor(s):\n",
    "    \"\"\"\n",
    "    Note: this function pre-processors data:\n",
    "    (1) removes non-alpha characters\n",
    "    (2) converts digits to 'number'\n",
    "    (3) regularizes spaces (although CountVectorizer ignores this unless they are part of words)\n",
    "    (4) reduces word size to n\n",
    "    \"\"\"\n",
    "\n",
    "    s = [re.sub(r'[?|$|.|!|@|\\n|(|)|<|>|_|-|,|\\']',r' ',s) for s in s] # strip out non-alpha numeric char, replace with space\n",
    "    s = [re.sub(r'\\d+',r'number ',s) for s in s] # convert digits to number\n",
    "    s = [re.sub(r' +',r' ',s) for s in s] # convert multiple spaces to single space\n",
    "    \n",
    "    # This sets word size to n=8\n",
    "    num = 8\n",
    "    def size_word(s):\n",
    "        temp = []\n",
    "        for s in s:\n",
    "            x = s.split()\n",
    "            z = [elem[:num] for elem in x]\n",
    "            z = ' '.join(z)\n",
    "            temp.append(z)       \n",
    "        return temp\n",
    "    \n",
    "    # Using NLTK 3.0 \n",
    "    \n",
    "    #stemmer = PorterStemmer()\n",
    "    lemmanizer = WordNetLemmatizer()\n",
    "    \n",
    "    def set_word(s):\n",
    "        temp = []\n",
    "        for s in s:\n",
    "            #x = stemmer.stem(s)\n",
    "            z = lemmanizer.lemmatize(s,pos='v')\n",
    "            z = ''.join(z)\n",
    "            temp.append(z)\n",
    "        return temp\n",
    "    \n",
    "    s = size_word(s)\n",
    "    s = set_word(s)\n",
    "    \n",
    "    \n",
    "    return s\n",
    "\n"
   ]
  },
  {
   "cell_type": "markdown",
   "metadata": {},
   "source": [
    "### Section 2.1 BiGrams \n",
    "After trying unigram and trigram vectorizers, the best results were found using bigrams in logistic regression\n"
   ]
  },
  {
   "cell_type": "code",
   "execution_count": 28,
   "metadata": {},
   "outputs": [
    {
     "name": "stdout",
     "output_type": "stream",
     "text": [
      "\n",
      "Raw data:\n",
      "The size of the vocabulary for the training text data is 111214\n",
      "First 5 feature Names: ['aa meeting', 'aaaaaath actualle', 'aaaaaath actuary', 'aaaaaath adventur', 'aaaaaath agnostic'] \n",
      "\n",
      "\n",
      "Raw data:\n",
      "The size of the vocabulary for the training text data is 111214\n",
      "First 5 feature Names: ['aa meeting', 'aaaaaath actualle', 'aaaaaath actuary', 'aaaaaath adventur', 'aaaaaath agnostic'] \n",
      "\n"
     ]
    }
   ],
   "source": [
    "# Try it with bigrams \n",
    "# Create the vectorizer\n",
    "vectorizer = CountVectorizer(analyzer = 'word', ngram_range=(2, 2), \n",
    "                             token_pattern=r'\\b\\w+\\b', min_df=1,stop_words = 'english')\n",
    "\n",
    "# Transform the corpus into vectorized trigrams\n",
    "tVector = vectorizer.fit_transform(data_preprocessor(trainCorpus))\n",
    "dVector = vectorizer.transform(data_preprocessor(devCorpus))\n",
    "\n",
    "# How does it look?\n",
    "print ('\\nRaw data:')\n",
    "print (\"The size of the vocabulary for the training text data is\", tVector.shape[1])\n",
    "print (\"First 5 feature Names:\", vectorizer.get_feature_names()[1:6], \"\\n\")\n",
    "\n",
    "# Use the preprocessor and do the same\n",
    "vectorizer_p = TfidfVectorizer(analyzer = 'word', ngram_range=(2, 2), \n",
    "                                  token_pattern=r'\\b\\w+\\b', min_df=1,stop_words = 'english')\n",
    "tVector_p = vectorizer_p.fit_transform(data_preprocessor(trainCorpus))\n",
    "dVector_p = vectorizer_p.transform(data_preprocessor(devCorpus))\n",
    "\n",
    "# How does the pre-processed vector look?\n",
    "print ('\\nRaw data:')\n",
    "print (\"The size of the vocabulary for the training text data is\", tVector_p.shape[1])\n",
    "print (\"First 5 feature Names:\", vectorizer_p.get_feature_names()[1:6], \"\\n\")"
   ]
  },
  {
   "cell_type": "markdown",
   "metadata": {},
   "source": [
    "### Section 2.2 PCA"
   ]
  },
  {
   "cell_type": "code",
   "execution_count": 29,
   "metadata": {},
   "outputs": [
    {
     "data": {
      "image/png": "[encoded data removed]",
      "text/plain": [
       "<matplotlib.figure.Figure at 0x206d1392a58>"
      ]
     },
     "metadata": {},
     "output_type": "display_data"
    }
   ],
   "source": [
    "# Try PCA\n",
    "\n",
    "# k = 250 principal components    \n",
    "n_comp = 250    \n",
    "pca_mod = PCA(n_components = n_comp)\n",
    "# PCA requires dense vectors:\n",
    "tDense = tVector_p.todense()\n",
    "# Get the principal components for the dense vector\n",
    "pca_mod.fit(tDense)\n",
    "# Find the fraction of the variance explained by each component\n",
    "pcaVarRatio =  pca_mod.explained_variance_ratio_ \n",
    "pcaCumVarRatio =  np.cumsum(pca_mod.explained_variance_ratio_)\n",
    "   \n",
    "# Plot the fraction of variance explained by each component, and the cumulative percent \n",
    "fig = plt.figure()\n",
    "ax1 = fig.add_subplot(111)\n",
    "ax1.scatter(range(len(pcaVarRatio)), pcaVarRatio, c = 'g', marker=\"s\", label='Fraction')\n",
    "ax1.scatter(range(len(pcaVarRatio)), pcaCumVarRatio, c = 'purple',marker=\"o\", \n",
    "            label='Cumulative')\n",
    "plt.legend(loc='upper left');\n",
    "ax1.set_title('Fraction of Total Variance for k = 1 to 250');\n",
    "plt.show()"
   ]
  },
  {
   "cell_type": "markdown",
   "metadata": {},
   "source": [
    "### Section 2.3:  Status (Upvotes-Downvotes)"
   ]
  },
  {
   "cell_type": "code",
   "execution_count": null,
   "metadata": {
    "collapsed": true
   },
   "outputs": [],
   "source": [
    "## PARAMETER 1:  DIFFERENCE IN UPVOTES-DOWNVOTES (from time of request to time of retrieval) ##\n",
    "\n",
    "# Training data\n",
    "\n",
    "# Create separate database of desired columns\n",
    "diffTrequest = allTData['requester_upvotes_minus_downvotes_at_request']\n",
    "diffTretrieval = allTData['requester_upvotes_minus_downvotes_at_retrieval']\n",
    "\n",
    "# Calculate upvote-downvote difference and add back into database\n",
    "allTData['request_to_retrieval_upvotes_minus_downvotes'] = diffTretrieval - diffTrequest\n",
    "\n",
    "\n",
    "# Development data (same process as above)\n",
    "diffDrequest = allDData['requester_upvotes_minus_downvotes_at_request']\n",
    "diffDretrieval = allDData['requester_upvotes_minus_downvotes_at_retrieval']\n",
    "allDData['request_to_retrieval_upvotes_minus_downvotes'] = diffDretrieval - diffDrequest"
   ]
  },
  {
   "cell_type": "code",
   "execution_count": null,
   "metadata": {
    "collapsed": true
   },
   "outputs": [],
   "source": [
    "## CONVERT UPVOTES-DOWNVOTES SUBSETS INTO Z-SCORES FOR STANDARDIZATION ##\n",
    "\n",
    "# Z-scores for training data\n",
    "\n",
    "# Retrieve appropriate columns\n",
    "statusTtrain = allTData[['requester_upvotes_minus_downvotes_at_request','requester_upvotes_minus_downvotes_at_retrieval',\n",
    "                          'request_to_retrieval_upvotes_minus_downvotes']].copy()\n",
    "statusTtrain.columns = ['Request', 'Retrieval', 'Request-Retrieval']\n",
    "# Convert into Z-scores\n",
    "for col in statusTtrain:\n",
    "    zscore_col = col + \" Z-score\"\n",
    "    statusTtrain[zscore_col] = (statusTtrain[col] - statusTtrain[col].mean() / statusTtrain[col].std(ddof=0))\n",
    "\n",
    "# Z-scores for development data(same process as above)\n",
    "statusDtrain = allDData[['requester_upvotes_minus_downvotes_at_request','requester_upvotes_minus_downvotes_at_retrieval',\n",
    "                          'request_to_retrieval_upvotes_minus_downvotes']].copy()\n",
    "statusDtrain.columns = ['Request', 'Retrieval', 'Request-Retrieval']\n",
    "\n",
    "for col in statusDtrain:\n",
    "    zscore_dev_col = col + \" Z-score\"\n",
    "    statusDtrain[zscore_dev_col] = (statusDtrain[col] - statusDtrain[col].mean() / statusDtrain[col].std(ddof=0))"
   ]
  },
  {
   "cell_type": "markdown",
   "metadata": {},
   "source": [
    "### Section 2.4:  Adding Other Features\n"
   ]
  },
  {
   "cell_type": "code",
   "execution_count": 30,
   "metadata": {
    "scrolled": false
   },
   "outputs": [
    {
     "name": "stdout",
     "output_type": "stream",
     "text": [
      "(3040, 14) (3040, 2)\n",
      "(1000, 14) (1000, 2)\n"
     ]
    },
    {
     "data": {
      "image/png": "[encoded data removed]",
      "text/plain": [
       "<matplotlib.figure.Figure at 0x206de00ff28>"
      ]
     },
     "metadata": {},
     "output_type": "display_data"
    },
    {
     "data": {
      "image/png": "[encoded data removed]",
      "text/plain": [
       "<matplotlib.figure.Figure at 0x206dca9efd0>"
      ]
     },
     "metadata": {},
     "output_type": "display_data"
    },
    {
     "data": {
      "image/png": "[encoded data removed]",
      "text/plain": [
       "<matplotlib.figure.Figure at 0x206de1a6e48>"
      ]
     },
     "metadata": {},
     "output_type": "display_data"
    },
    {
     "data": {
      "image/png": "[encoded data removed]",
      "text/plain": [
       "<matplotlib.figure.Figure at 0x206d1516198>"
      ]
     },
     "metadata": {},
     "output_type": "display_data"
    },
    {
     "data": {
      "image/png": "[encoded data removed]",
      "text/plain": [
       "<matplotlib.figure.Figure at 0x206dcdb20b8>"
      ]
     },
     "metadata": {},
     "output_type": "display_data"
    },
    {
     "data": {
      "image/png": "[encoded data removed]",
      "text/plain": [
       "<matplotlib.figure.Figure at 0x206dc938898>"
      ]
     },
     "metadata": {},
     "output_type": "display_data"
    },
    {
     "data": {
      "image/png": "[encoded data removed]",
      "text/plain": [
       "<matplotlib.figure.Figure at 0x206dcdb2588>"
      ]
     },
     "metadata": {},
     "output_type": "display_data"
    },
    {
     "data": {
      "image/png": "[encoded data removed]",
      "text/plain": [
       "<matplotlib.figure.Figure at 0x206df281080>"
      ]
     },
     "metadata": {},
     "output_type": "display_data"
    },
    {
     "data": {
      "image/png": "[encoded data removed]",
      "text/plain": [
       "<matplotlib.figure.Figure at 0x206ddda5470>"
      ]
     },
     "metadata": {},
     "output_type": "display_data"
    },
    {
     "data": {
      "image/png": "[encoded data removed]",
      "text/plain": [
       "<matplotlib.figure.Figure at 0x206dcbecba8>"
      ]
     },
     "metadata": {},
     "output_type": "display_data"
    },
    {
     "data": {
      "image/png": "[encoded data removed]",
      "text/plain": [
       "<matplotlib.figure.Figure at 0x206dda046a0>"
      ]
     },
     "metadata": {},
     "output_type": "display_data"
    },
    {
     "data": {
      "image/png": "[encoded data removed]",
      "text/plain": [
       "<matplotlib.figure.Figure at 0x206dd3a5978>"
      ]
     },
     "metadata": {},
     "output_type": "display_data"
    },
    {
     "data": {
      "image/png": "[encoded data removed]",
      "text/plain": [
       "<matplotlib.figure.Figure at 0x206dda0a748>"
      ]
     },
     "metadata": {},
     "output_type": "display_data"
    },
    {
     "data": {
      "image/png": "[encoded data removed]",
      "text/plain": [
       "<matplotlib.figure.Figure at 0x206de394240>"
      ]
     },
     "metadata": {},
     "output_type": "display_data"
    },
    {
     "data": {
      "image/png": "[encoded data removed]",
      "text/plain": [
       "<matplotlib.figure.Figure at 0x206dd4fa6d8>"
      ]
     },
     "metadata": {},
     "output_type": "display_data"
    },
    {
     "data": {
      "image/png": "[encoded data removed]",
      "text/plain": [
       "<matplotlib.figure.Figure at 0x206df05b278>"
      ]
     },
     "metadata": {},
     "output_type": "display_data"
    }
   ],
   "source": [
    "# Extract other features\n",
    "\n",
    "def plot_figure(x):\n",
    "    plt.figure()\n",
    "    plt.hist(x)\n",
    "    plt.show()\n",
    "    \n",
    "\n",
    "subTTFe = allTData[['giver_username_if_known', \n",
    "                    'number_of_downvotes_of_request_at_retrieval', \n",
    "                    'number_of_upvotes_of_request_at_retrieval',\n",
    "                    'request_number_of_comments_at_retrieval',\n",
    "                    'requester_account_age_in_days_at_request',\n",
    "                    'requester_number_of_comments_at_request', \n",
    "                    'requester_number_of_comments_in_raop_at_request', \n",
    "                    'requester_number_of_posts_at_request', \n",
    "                    'requester_number_of_subreddits_at_request', \n",
    "                    'requester_upvotes_minus_downvotes_at_request', \n",
    "                    'requester_upvotes_minus_downvotes_at_retrieval', \n",
    "                    'requester_upvotes_plus_downvotes_at_request', \n",
    "                    'requester_upvotes_plus_downvotes_at_retrieval']]\n",
    "\n",
    "subDTFe = allDData[['giver_username_if_known', \n",
    "                    'number_of_downvotes_of_request_at_retrieval', \n",
    "                    'number_of_upvotes_of_request_at_retrieval',\n",
    "                    'request_number_of_comments_at_retrieval',\n",
    "                    'requester_account_age_in_days_at_request',\n",
    "                    'requester_number_of_comments_at_request', \n",
    "                    'requester_number_of_comments_in_raop_at_request', \n",
    "                    'requester_number_of_posts_at_request', \n",
    "                    'requester_number_of_subreddits_at_request', \n",
    "                    'requester_upvotes_minus_downvotes_at_request', \n",
    "                    'requester_upvotes_minus_downvotes_at_retrieval', \n",
    "                    'requester_upvotes_plus_downvotes_at_request', \n",
    "                    'requester_upvotes_plus_downvotes_at_retrieval']]\n",
    "\n",
    "# Convert first col to numerical\n",
    "\n",
    "temp = 1*(subTTFe['giver_username_if_known']!='N/A').values\n",
    "subTTFe = subTTFe.drop('giver_username_if_known',1).values\n",
    "\n",
    "temp = np.reshape(temp,(-1,1))\n",
    "subTTFe = np.concatenate((subTTFe,temp), axis=1)\n",
    "\n",
    "#print(subTTFe[1])\n",
    "\n",
    "temp = 1*(subDTFe['giver_username_if_known']!='N/A').values\n",
    "subDTFe = subDTFe.drop('giver_username_if_known',1).values\n",
    "\n",
    "temp = np.reshape(temp,(-1,1))\n",
    "subDTFe = np.concatenate((subDTFe,temp), axis=1)\n",
    "\n",
    "# Create new features\n",
    "\n",
    "# Upvote minus downvotes at request - upvote minus downvote at retrieval\n",
    "\n",
    "temp = np.reshape((subTTFe[:,10] - subTTFe[:,9]),(-1,1))\n",
    "subTTFe = np.concatenate((subTTFe,temp),axis=1)\n",
    "\n",
    "temp = np.reshape((subDTFe[:,10] - subDTFe[:,9]),(-1,1))\n",
    "subDTFe = np.concatenate((subDTFe,temp),axis=1)\n",
    "\n",
    "# Hour and Month of request\n",
    "\n",
    "unixT = allTData[['unix_timestamp_of_request_utc']].copy()\n",
    "unixD = allDData[['unix_timestamp_of_request_utc']].copy()\n",
    "\n",
    "# Convert from unix > datetime\n",
    "unixT['Datetime'] = pandas.to_datetime(unixT['unix_timestamp_of_request_utc'], unit='s')\n",
    "unixT['Hour'] = unixT['Datetime'].dt.hour\n",
    "unixT['Month'] = unixT['Datetime'].dt.month\n",
    "unixT = unixT.drop(['Datetime','unix_timestamp_of_request_utc'], axis=1)\n",
    "unixT = unixT.values\n",
    "\n",
    "unixD['Datetime'] = pandas.to_datetime(unixD['unix_timestamp_of_request_utc'], unit='s')\n",
    "unixD['Hour'] = unixD['Datetime'].dt.hour\n",
    "unixD['Month'] = unixD['Datetime'].dt.month\n",
    "unixD = unixD.drop(['Datetime','unix_timestamp_of_request_utc'], axis=1)\n",
    "unixD = unixD.values\n",
    "\n",
    "print(subTTFe.shape, unixT.shape)\n",
    "print(subDTFe.shape, unixD.shape)\n",
    "\n",
    "subTTFe = np.concatenate((subTTFe,unixT),axis=1)\n",
    "subDTFe = np.concatenate((subDTFe,unixD),axis=1)\n",
    "\n",
    "# Scale features\n",
    "\n",
    "#print(describe(subTTFe[:,0]))\n",
    "\n",
    "n1 = preprocessing.MinMaxScaler().fit_transform(subTTFe)\n",
    "n2 = preprocessing.MinMaxScaler().fit_transform(subDTFe)\n",
    "\n",
    "#print(n1.shape)\n",
    "\n",
    "for i in range(n1.shape[1]):\n",
    "    plot_figure(n1[:,i])\n",
    "\n"
   ]
  },
  {
   "cell_type": "markdown",
   "metadata": {},
   "source": [
    "### Section 2.5:  vaderSentiment Analysis"
   ]
  },
  {
   "cell_type": "code",
   "execution_count": 58,
   "metadata": {},
   "outputs": [
    {
     "ename": "SyntaxError",
     "evalue": "invalid syntax (<ipython-input-58-da4683666739>, line 20)",
     "output_type": "error",
     "traceback": [
      "\u001b[1;36m  File \u001b[1;32m\"<ipython-input-58-da4683666739>\"\u001b[1;36m, line \u001b[1;32m20\u001b[0m\n\u001b[1;33m    x = vaderSentiment:nalyser.polarity_scores(title)\u001b[0m\n\u001b[1;37m                      ^\u001b[0m\n\u001b[1;31mSyntaxError\u001b[0m\u001b[1;31m:\u001b[0m invalid syntax\n"
     ]
    }
   ],
   "source": [
    "import pandas as pd\n",
    "\n",
    "titles = allTData['request_title']\n",
    "    \n",
    "df = pd.DataFrame(data = allTData)\n",
    "\n",
    "df = df[['request_title', 'requester_received_pizza']]\n",
    "\n",
    "titles = allTData['request_title']\n",
    "\n",
    "def print_sentiment_scores(sentence):\n",
    "    snt = analyser.polarity_scores(sentence)\n",
    "    snt['compund']\n",
    "    #print(\"{:-<40} {}\".format(sentence, str(snt)))\n",
    "    #print(snt['compound'])\n",
    "    \n",
    "scores = []\n",
    "\n",
    "for title in titles:\n",
    "    x = analyser.polarity_scores(title)\n",
    "    scores.append(x['compound'])  \n",
    "\n",
    "#print(scores[1:10])\n",
    "\n",
    "df[\"Vader Scores\"] = scores\n",
    "\n",
    "#df.head(10)\n",
    "\n",
    "df = df.drop('request_title', axis = 1)\n",
    "\n",
    "print(df)\n",
    "\n",
    "#df.head(10)"
   ]
  },
  {
   "cell_type": "code",
   "execution_count": 48,
   "metadata": {},
   "outputs": [
    {
     "ename": "NameError",
     "evalue": "name 'analyser' is not defined",
     "output_type": "error",
     "traceback": [
      "\u001b[1;31m---------------------------------------------------------------------------\u001b[0m",
      "\u001b[1;31mNameError\u001b[0m                                 Traceback (most recent call last)",
      "\u001b[1;32m<ipython-input-48-74bc99f535f1>\u001b[0m in \u001b[0;36m<module>\u001b[1;34m()\u001b[0m\n\u001b[0;32m     16\u001b[0m \u001b[1;33m\u001b[0m\u001b[0m\n\u001b[0;32m     17\u001b[0m \u001b[1;32mfor\u001b[0m \u001b[0mtitle\u001b[0m \u001b[1;32min\u001b[0m \u001b[0mtitles\u001b[0m\u001b[1;33m:\u001b[0m\u001b[1;33m\u001b[0m\u001b[0m\n\u001b[1;32m---> 18\u001b[1;33m     \u001b[0mscores_d\u001b[0m\u001b[1;33m.\u001b[0m\u001b[0mappend\u001b[0m\u001b[1;33m(\u001b[0m\u001b[0manalyser\u001b[0m\u001b[1;33m.\u001b[0m\u001b[0mpolarity_scores\u001b[0m\u001b[1;33m(\u001b[0m\u001b[0mtitle\u001b[0m\u001b[1;33m)\u001b[0m\u001b[1;33m[\u001b[0m\u001b[1;34m'compound'\u001b[0m\u001b[1;33m]\u001b[0m\u001b[1;33m)\u001b[0m\u001b[1;33m\u001b[0m\u001b[0m\n\u001b[0m\u001b[0;32m     19\u001b[0m \u001b[1;33m\u001b[0m\u001b[0m\n\u001b[0;32m     20\u001b[0m \u001b[0mdf_d\u001b[0m\u001b[1;33m[\u001b[0m\u001b[1;34m\"Vader Scores\"\u001b[0m\u001b[1;33m]\u001b[0m \u001b[1;33m=\u001b[0m \u001b[0mscores_d\u001b[0m\u001b[1;33m\u001b[0m\u001b[0m\n",
      "\u001b[1;31mNameError\u001b[0m: name 'analyser' is not defined"
     ]
    }
   ],
   "source": [
    "import pandas as pd\n",
    "\n",
    "titles = allDData['request_title']\n",
    "\n",
    "df_d = pd.DataFrame(data = allDData)\n",
    "\n",
    "df_d = df_d[['request_title', 'requester_received_pizza']]\n",
    "\n",
    "def print_sentiment_scores(sentence):\n",
    "    snt = analyser.polarity_scores(sentence)\n",
    "    snt['compund']\n",
    "    #print(\"{:-<40} {}\".format(sentence, str(snt)))\n",
    "    #print(snt['compound'])\n",
    "    \n",
    "scores_d = []\n",
    "\n",
    "for title in titles:\n",
    "    scores_d.append(analyser.polarity_scores(title)['compound'])\n",
    "\n",
    "df_d[\"Vader Scores\"] = scores_d\n",
    "\n",
    "df_d = df_d.drop('request_title', axis = 1)\n",
    "\n",
    "print(df_d)"
   ]
  },
  {
   "cell_type": "code",
   "execution_count": 49,
   "metadata": {},
   "outputs": [
    {
     "ename": "NameError",
     "evalue": "name 'analyser' is not defined",
     "output_type": "error",
     "traceback": [
      "\u001b[1;31m---------------------------------------------------------------------------\u001b[0m",
      "\u001b[1;31mNameError\u001b[0m                                 Traceback (most recent call last)",
      "\u001b[1;32m<ipython-input-49-97b343d6472a>\u001b[0m in \u001b[0;36m<module>\u001b[1;34m()\u001b[0m\n\u001b[0;32m      8\u001b[0m \u001b[1;33m\u001b[0m\u001b[0m\n\u001b[0;32m      9\u001b[0m \u001b[1;32mfor\u001b[0m \u001b[0mtitle\u001b[0m \u001b[1;32min\u001b[0m \u001b[0mtTitles\u001b[0m\u001b[1;33m:\u001b[0m\u001b[1;33m\u001b[0m\u001b[0m\n\u001b[1;32m---> 10\u001b[1;33m     \u001b[0msnt\u001b[0m \u001b[1;33m=\u001b[0m \u001b[0manalyser\u001b[0m\u001b[1;33m.\u001b[0m\u001b[0mpolarity_scores\u001b[0m\u001b[1;33m(\u001b[0m\u001b[0mtitle\u001b[0m\u001b[1;33m)\u001b[0m\u001b[1;33m\u001b[0m\u001b[0m\n\u001b[0m\u001b[0;32m     11\u001b[0m     \u001b[0mcompoundScore\u001b[0m \u001b[1;33m=\u001b[0m \u001b[0msnt\u001b[0m\u001b[1;33m[\u001b[0m\u001b[1;34m'compound'\u001b[0m\u001b[1;33m]\u001b[0m\u001b[1;33m\u001b[0m\u001b[0m\n\u001b[0;32m     12\u001b[0m     \u001b[0mtitleTSentiment\u001b[0m\u001b[1;33m.\u001b[0m\u001b[0mappend\u001b[0m\u001b[1;33m(\u001b[0m\u001b[0mcompoundScore\u001b[0m\u001b[1;33m)\u001b[0m\u001b[1;33m\u001b[0m\u001b[0m\n",
      "\u001b[1;31mNameError\u001b[0m: name 'analyser' is not defined"
     ]
    }
   ],
   "source": [
    "import pandas as pd\n",
    "\n",
    "tTitles = allTData['request_title']\n",
    "dTitles = allDData['request_title']\n",
    "\n",
    "titleTSentiment = []\n",
    "titleDSentiment = []\n",
    "\n",
    "for title in tTitles:\n",
    "    snt = analyser.polarity_scores(title)\n",
    "    compoundScore = snt['compound']\n",
    "    titleTSentiment.append(compoundScore)\n",
    "\n",
    "titleTSentiment = pd.DataFrame(titleTSentiment)\n",
    "    \n",
    "for title in dTitles:\n",
    "    snt = analyser.polarity_scores(title)\n",
    "    compoundScore = snt['compound']\n",
    "    titleDSentiment.append(compoundScore)\n",
    "\n",
    "titleDSentiment = pd.DataFrame(titleDSentiment)\n",
    "\n",
    "C = 100\n",
    "modelLogit = LogisticRegression(penalty = 'l2', C = C)\n",
    "\n",
    "trainLabel = allTData['requester_received_pizza']\n",
    "devLabel = allDData['requester_received_pizza']\n",
    "\n",
    "modelLogit.fit(titleTSentiment,trainLabel)\n",
    "score_rep(devLabel,modelLogit.predict(titleDSentiment),'Logistic Regression, C = 0.001')\n"
   ]
  },
  {
   "cell_type": "code",
   "execution_count": 50,
   "metadata": {},
   "outputs": [
    {
     "name": "stdout",
     "output_type": "stream",
     "text": [
      "(3040, 11121)\n",
      "(1000, 11121)\n"
     ]
    }
   ],
   "source": [
    "#Variance Threshold\n",
    "\"\"\"\n",
    "sel = VarianceThreshold(threshold=(0.8*(1-0.8)))\n",
    "tVector = sel.fit_transform(tVector)\n",
    "dVector = sel.transform(dVector)\n",
    "\"\"\"\n",
    "\n",
    "# Select k best\n",
    "#sel = SelectKBest(chi2, k=8)\n",
    "\n",
    "# Select percentile\n",
    "from sklearn.feature_selection import mutual_info_classif\n",
    "from sklearn.feature_selection import SelectPercentile\n",
    "\n",
    "sel = SelectPercentile(mutual_info_classif, percentile=10)\n",
    "tVector = sel.fit_transform(tVector,trainLabel)\n",
    "tVector_p = sel.fit_transform(tVector_p,trainLabel)\n",
    "dVector = sel.fit_transform(dVector,devLabel)\n",
    "dVector_p = sel.fit_transform(dVector_p,devLabel)\n",
    "\n",
    "#nb = BernoulliNB(alpha=0.01).fit(tVector,trainLabel)\n",
    "#model = SelectFromModel(nb, prefit=True)\n",
    "#tVector = model.transform(tVector)\n",
    "#dVector = model.transform(dVector)\n",
    "\n",
    "\n",
    "print(tVector.shape)\n",
    "print(dVector.shape)"
   ]
  },
  {
   "cell_type": "code",
   "execution_count": null,
   "metadata": {
    "collapsed": true
   },
   "outputs": [],
   "source": [
    "print(tVector.shape)\n",
    "print(n1.shape)\n",
    "\n",
    "tVector = np.concatenate((tVector.toarray(),n1),axis=1)\n",
    "tVector_p = np.concatenate((tVector_p.toarray(),n1),axis=1)\n",
    "dVector = np.concatenate((dVector.toarray(),n2),axis=1)\n",
    "dVector_p = np.concatenate((dVector_p.toarray(),n2),axis=1)"
   ]
  },
  {
   "cell_type": "markdown",
   "metadata": {},
   "source": [
    "## Section 3: Models\n",
    "\n",
    "### 3.1: Logistic Regression"
   ]
  },
  {
   "cell_type": "code",
   "execution_count": null,
   "metadata": {
    "collapsed": true
   },
   "outputs": [],
   "source": [
    "# Logistic Regression: bigrams\n",
    "# Fit a logistic regression model to our bigrams, using l2 regularization and C = .5\n",
    "c = .01\n",
    "modelLogit = LogisticRegression(penalty='l2', C=c)\n",
    "modelLogit.fit(tVector, trainLabel)\n",
    "\n",
    "# Print out the classification report\n",
    "print(\"Classification report raw bigrams:\\n\")\n",
    "devPred = modelLogit.predict(dVector)\n",
    "print(classification_report(devLabel, devPred))\n",
    "\n",
    "# Print out the accuracy scode   \n",
    "logitScore = round(modelLogit.score(dVector, devLabel), 4)\n",
    "print(\"For C = \", c, \"Logistic regression accuracy:\", logitScore)\n",
    "\n",
    "# Fit the pre-processed data\n",
    "modelLogit_p = LogisticRegression(penalty='l2', C=c)\n",
    "modelLogit_p.fit(tVector_p, trainLabel)\n",
    "\n",
    "# Print out the classification report\n",
    "print(\"\\nClassification report processed bigrams:\\n\")\n",
    "devPred = modelLogit_p.predict(dVector_p)\n",
    "print(classification_report(devLabel, devPred))\n",
    "    \n",
    "# Print the accuracy score\n",
    "logitScore = round(modelLogit_p.score(dVector_p, devLabel), 4)\n",
    "print(\"For C = \", c, \"Logistic regression accuracy:\", logitScore)"
   ]
  },
  {
   "cell_type": "markdown",
   "metadata": {},
   "source": [
    "### Section 3.2: Ensemble Model on PCA Features"
   ]
  },
  {
   "cell_type": "code",
   "execution_count": null,
   "metadata": {
    "collapsed": true
   },
   "outputs": [],
   "source": [
    "# Create an ensemble model on the PCA features\n",
    "# Get the training features\n",
    "pca_tran=pca_mod.transform(tDense)  \n",
    "# Convert our dev features to be dense\n",
    "dDense = dVector_p.todense()\n",
    "# Get the dev features\n",
    "pca_devTran=pca_mod.transform(dDense)  \n",
    "\n",
    "# Set up lr_1\n",
    "lr_1 = LogisticRegression(penalty='l2', C=0.01)\n",
    "# Set up lr_2\n",
    "lr_2 = LogisticRegression(penalty='l2', C=0.1)\n",
    "# Set up lr_3\n",
    "lr_3 = LogisticRegression(penalty='l2', C=0.5)\n",
    "\n",
    "# Set up ensemble of the models\n",
    "clf = EnsembleVoteClassifier(clfs=[lr_1, lr_2, lr_3], \n",
    "                             voting='soft', weights=[1,1, 1])\n",
    "\n",
    "# Fit training data\n",
    "clf.fit(pca_tran,trainLabel)\n",
    "  \n",
    "# Probabilities, predictions\n",
    "devProb = clf.predict_proba(pca_devTran)\n",
    "devPred = clf.predict(pca_devTran)\n",
    "\n",
    "acc = sum(devPred == devLabel)/len(devLabel)\n",
    "print(\"Logistic regression accuracy:\", acc)\n",
    "print(classification_report(devLabel, devPred))\n"
   ]
  },
  {
   "cell_type": "markdown",
   "metadata": {},
   "source": [
    "### Section 3.3: Scoring Functions"
   ]
  },
  {
   "cell_type": "code",
   "execution_count": null,
   "metadata": {
    "collapsed": true
   },
   "outputs": [],
   "source": [
    "# Group scoring functions\n",
    "\n",
    "def roc_curve1(y_true, y_pred_prob):\n",
    "    \"\"\"This function plots the ROC curve\n",
    "    Inputs: y_true, correct label\n",
    "            y_pred_prob, predicted probabilities\n",
    "    \"\"\"\n",
    "    fpr, tpr, thr = roc_curve(y_true, y_pred_prob)\n",
    "   \n",
    "    plt.figure()\n",
    "    plt.plot(fpr,tpr)\n",
    "    plt.xlabel(\"False positive rate\")\n",
    "    plt.ylabel(\"True positive rate\")\n",
    "    plt.title(\"ROC Curve\")\n",
    "    plt.show()\n",
    "    \n",
    "\n",
    "def score_rep(y_true, y_pred, desc):\n",
    "    \"\"\"Function to print out comprehensive report for classification test\n",
    "    Inputs: y_true, correct label\n",
    "            y_pred, predicted label from model\n",
    "            desc, description of model\n",
    "    Output: classification report\n",
    "    \"\"\"\n",
    "    print(desc)\n",
    "    print(\"-\"*75)\n",
    "    print(\"Accuracy: \", metrics.accuracy_score(y_true, y_pred))\n",
    "    print(\"Area under curve of ROC: \", metrics.roc_auc_score(y_true, y_pred))\n",
    "    print(\"Classification report:\\n\")\n",
    "    print(metrics.classification_report(y_true, y_pred))\n",
    "    print(\"-\"*75)"
   ]
  },
  {
   "cell_type": "markdown",
   "metadata": {},
   "source": [
    "### Section 3.4: Status & Hour LR Model"
   ]
  },
  {
   "cell_type": "code",
   "execution_count": null,
   "metadata": {
    "collapsed": true
   },
   "outputs": [],
   "source": [
    "import warnings\n",
    "warnings.filterwarnings('ignore') \n",
    "\n",
    "# FOR STATUS AND TIME BY HOUR\n",
    "lr = LogisticRegression(penalty='l2', C=0.01)\n",
    "\n",
    "train_labels = np.asarray(allTData['requester_received_pizza'])\n",
    "dev_labels = np.asarray(allDData['requester_received_pizza'])\n",
    "\n",
    "# setup training and development datasets\n",
    "# train\n",
    "stathourTData = pandas.concat([statusTtrain['Request-Retrieval Z-score'], allTData['unix_timestamp_of_request_utc']], axis=1, \n",
    "                              keys=['Request-Retrieval Z-score', 'unix_timestamp_of_request_utc'])\n",
    "stathourTData['Datetime'] = pandas.to_datetime(stathourTData['unix_timestamp_of_request_utc'], unit='s')\n",
    "stathourTData['Hour'] = stathourTData['Datetime'].dt.hour\n",
    "stathourTData_ = stathourTData.drop(['Datetime', 'unix_timestamp_of_request_utc'], axis=1)\n",
    "# display(stathourTData.head(5))\n",
    "\n",
    "# development\n",
    "stathourDData = pandas.concat([statusDtrain['Request-Retrieval Z-score'], allDData['unix_timestamp_of_request_utc']], axis=1, \n",
    "                              keys=['Request-Retrieval Z-score', 'unix_timestamp_of_request_utc'])\n",
    "stathourDData['Datetime'] = pandas.to_datetime(stathourDData['unix_timestamp_of_request_utc'], unit='s')\n",
    "stathourDData['Hour'] = stathourDData['Datetime'].dt.hour\n",
    "stathourDData_ = stathourDData.drop(['Datetime', 'unix_timestamp_of_request_utc'], axis=1)\n",
    "# display(stathourDData.head(5))\n",
    "\n",
    "# fit LR models\n",
    "train_stathour_model = lr.fit(stathourTData_, train_labels)\n",
    "dev_stathour_labels = train_stathour_model.predict(stathourDData_)\n",
    "stathour_score = train_stathour_model.score(stathourDData_, dev_labels)\n",
    "stathour_F1score = metrics.f1_score(dev_stathour_labels, dev_labels)\n",
    "\n",
    "print(\"\\nScoring for Request-retrieval Z-scores and Hour\")\n",
    "print(\"Accuracy:\", stathour_score)\n",
    "print(\"F1 score:\", stathour_F1score)\n",
    "roc_curve1(dev_labels, train_stathour_model.predict_proba(stathourDData_)[:,0])\n",
    "score_rep(dev_labels, dev_stathour_labels,\"Logistic Regression, C = 0.01\")"
   ]
  },
  {
   "cell_type": "code",
   "execution_count": null,
   "metadata": {
    "collapsed": true
   },
   "outputs": [],
   "source": [
    "# retrieve probabilities from text model where training label is True\n",
    "text_model = modelLogit.fit(tVector_p, trainLabel)\n",
    "prob = text_model.predict_proba(dVector_p)\n",
    "prob_true = [float(y) for x,y in prob]\n",
    "prob_true = pandas.DataFrame(prob_true)\n",
    "prob_false = [float(x) for x,y in prob]\n",
    "prob_false = pandas.DataFrame(prob_false)\n",
    "\n",
    "# add as a parameter to status/hour dataframe\n",
    "combinedTData = pandas.concat([stathourTData_, prob_true, prob_false], axis = 1)\n",
    "combinedDData = stathourDData_\n",
    "\n",
    "# fit LR models\n",
    "train_comb_model = lr.fit(combinedTData, train_labels)\n",
    "dev_comb_labels = train_train_comb_model.predict(combinedDData)\n",
    "comb_score = train_comb_model.score(combinedDData, dev_labels)\n",
    "comb_F1score = metrics.f1_score(dev_comb_labels, dev_labels)\n",
    "\n",
    "print(\"\\nScoring for Request-retrieval Z-scores and bucketed Hour:\")\n",
    "print(\"Accuracy:\", comb_score)\n",
    "print(\"F1 score:\", comb_F1score)\n",
    "roc_curve1(dev_labels, train_comb_model.predict_proba(combinedDData)[:,0])\n",
    "score_rep(dev_labels, dev_comb_labels,\"Logistic Regression, C = 0.01\")\n"
   ]
  }
 ],
 "metadata": {
  "kernelspec": {
   "display_name": "Python [default]",
   "language": "python",
   "name": "python3"
  },
  "language_info": {
   "codemirror_mode": {
    "name": "ipython",
    "version": 3
   },
   "file_extension": ".py",
   "mimetype": "text/x-python",
   "name": "python",
   "nbconvert_exporter": "python",
   "pygments_lexer": "ipython3",
   "version": "3.5.3"
  }
 },
 "nbformat": 4,
 "nbformat_minor": 2
}
