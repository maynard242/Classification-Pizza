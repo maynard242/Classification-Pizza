{
 "cells": [
  {
   "cell_type": "markdown",
   "metadata": {},
   "source": [
    "# Section 1:  Libraries (added the last section)"
   ]
  },
  {
   "cell_type": "code",
   "execution_count": 11,
   "metadata": {
    "collapsed": true
   },
   "outputs": [],
   "source": [
    "# Import Libraries #\n",
    "import json\n",
    "from pprint import pprint\n",
    "from pandas import *\n",
    "from pandas.io.json import json_normalize\n",
    "\n",
    "# SK-learn library for importing the newsgroup data.\n",
    "from sklearn.datasets import fetch_20newsgroups\n",
    "\n",
    "# General libraries\n",
    "import re\n",
    "import numpy as np\n",
    "import matplotlib.pyplot as plt\n",
    "\n",
    "# SK-learn libraries for feature extraction from text.\n",
    "from sklearn.feature_extraction.text import *\n",
    "\n",
    "# SK-learn libraries for pre/processing data\n",
    "from sklearn import preprocessing\n",
    "\n",
    "from sklearn.decomposition import LatentDirichletAllocation as LDA\n",
    "\n",
    "# SK-learn libraries for learning\n",
    "from sklearn.pipeline import Pipeline\n",
    "from sklearn.neighbors import KNeighborsClassifier\n",
    "from sklearn.linear_model import LogisticRegression\n",
    "from sklearn.naive_bayes import BernoulliNB\n",
    "from sklearn.naive_bayes import MultinomialNB\n",
    "from sklearn.ensemble import RandomForestClassifier\n",
    "\n",
    "# SK-learn libraries for evaluation\n",
    "from sklearn import cross_validation\n",
    "from sklearn.grid_search import GridSearchCV\n",
    "from sklearn import metrics\n",
    "from sklearn.metrics import classification_report\n",
    "from sklearn.metrics import recall_score\n",
    "from sklearn.metrics import confusion_matrix\n",
    "from sklearn.metrics import roc_curve, roc_auc_score\n",
    "\n",
    "# Jen2's libraries\n",
    "from IPython.display import display\n",
    "import matplotlib.pyplot as plt\n",
    "%matplotlib inline\n",
    "import datetime as dt"
   ]
  },
  {
   "cell_type": "markdown",
   "metadata": {},
   "source": [
    "# Section 2:  Loading (same)"
   ]
  },
  {
   "cell_type": "code",
   "execution_count": 2,
   "metadata": {
    "collapsed": true
   },
   "outputs": [],
   "source": [
    "## Get Data ##\n",
    "\n",
    "#reference on data: https://www.kaggle.com/c/random-acts-of-pizza/data\n",
    "# pull in the training and test data\n",
    "with open('/Users/Jen2/Desktop/W207/project/train.json', encoding='utf-8') as data_file:\n",
    "#with open('/home/levi/Documents/W207_Proj/data/train.json', encoding='utf-8') as data_file:\n",
    "    trainData = json.loads(data_file.read())   \n",
    "with open('/Users/Jen2/Desktop/W207/project/test.json', encoding='utf-8') as data_file:\n",
    "#with open('/home/levi/Documents/W207_Proj/data/train.json', encoding='utf-8') as data_file:\n",
    "    testData = json.loads(data_file.read())    \n",
    "\n",
    "# create a dev data set \n",
    "devData = trainData[0:1000]\n",
    "trainData = trainData[1000:]\n",
    "\n",
    "\n",
    "# create a normalized view\n",
    "allTData = json_normalize(trainData)\n",
    "allDData = json_normalize(devData)"
   ]
  },
  {
   "cell_type": "markdown",
   "metadata": {},
   "source": [
    "# Section 3:  Feature selection (new)"
   ]
  },
  {
   "cell_type": "markdown",
   "metadata": {},
   "source": [
    "## Section 3.1:  Status (Upvotes-Downvotes)"
   ]
  },
  {
   "cell_type": "code",
   "execution_count": 4,
   "metadata": {},
   "outputs": [],
   "source": [
    "## PARAMETER 1:  DIFFERENCE IN UPVOTES-DOWNVOTES (from time of request to time of retrieval) ##\n",
    "\n",
    "# Training data\n",
    "\n",
    "# Create separate database of desired columns\n",
    "diffTrequest = allTData['requester_upvotes_minus_downvotes_at_request']\n",
    "diffTretrieval = allTData['requester_upvotes_minus_downvotes_at_retrieval']\n",
    "\n",
    "# Calculate upvote-downvote difference and add back into database\n",
    "allTData['request_to_retrieval_upvotes_minus_downvotes'] = diffTretrieval - diffTrequest\n",
    "\n",
    "\n",
    "# Development data (same process as above)\n",
    "diffDrequest = allDData['requester_upvotes_minus_downvotes_at_request']\n",
    "diffDretrieval = allDData['requester_upvotes_minus_downvotes_at_retrieval']\n",
    "allDData['request_to_retrieval_upvotes_minus_downvotes'] = diffDretrieval - diffDrequest\n"
   ]
  },
  {
   "cell_type": "code",
   "execution_count": 10,
   "metadata": {},
   "outputs": [],
   "source": [
    "## CONVERT UPVOTES-DOWNVOTES SUBSETS INTO Z-SCORES FOR STANDARDIZATION ##\n",
    "\n",
    "# Z-scores for training data\n",
    "\n",
    "# Retrieve appropriate columns\n",
    "statusTtrain = allTData[['requester_upvotes_minus_downvotes_at_request','requester_upvotes_minus_downvotes_at_retrieval',\n",
    "                          'request_to_retrieval_upvotes_minus_downvotes']].copy()\n",
    "statusTtrain.columns = ['Request', 'Retrieval', 'Request-Retrieval']\n",
    "# Convert into Z-scores\n",
    "for col in statusTtrain:\n",
    "    zscore_col = col + \" Z-score\"\n",
    "    statusTtrain[zscore_col] = (statusTtrain[col] - statusTtrain[col].mean() / statusTtrain[col].std(ddof=0))\n",
    "\n",
    "# Z-scores for development data(same process as above)\n",
    "statusDtrain = allDData[['requester_upvotes_minus_downvotes_at_request','requester_upvotes_minus_downvotes_at_retrieval',\n",
    "                          'request_to_retrieval_upvotes_minus_downvotes']].copy()\n",
    "statusDtrain.columns = ['Request', 'Retrieval', 'Request-Retrieval']\n",
    "\n",
    "for col in statusDtrain:\n",
    "    zscore_dev_col = col + \" Z-score\"\n",
    "    statusDtrain[zscore_dev_col] = (statusDtrain[col] - statusDtrain[col].mean() / statusDtrain[col].std(ddof=0))\n"
   ]
  },
  {
   "cell_type": "markdown",
   "metadata": {},
   "source": [
    "## Section 3.2:  Time"
   ]
  },
  {
   "cell_type": "code",
   "execution_count": 20,
   "metadata": {},
   "outputs": [
    {
     "data": {
      "text/html": [
       "<div>\n",
       "<table border=\"1\" class=\"dataframe\">\n",
       "  <thead>\n",
       "    <tr style=\"text-align: right;\">\n",
       "      <th></th>\n",
       "      <th>unix_timestamp_of_request_utc</th>\n",
       "      <th>requester_received_pizza</th>\n",
       "      <th>Datetime</th>\n",
       "      <th>Hour</th>\n",
       "    </tr>\n",
       "  </thead>\n",
       "  <tbody>\n",
       "    <tr>\n",
       "      <th>0</th>\n",
       "      <td>1.379168e+09</td>\n",
       "      <td>False</td>\n",
       "      <td>2013-09-14 14:10:23</td>\n",
       "      <td>14</td>\n",
       "    </tr>\n",
       "    <tr>\n",
       "      <th>1</th>\n",
       "      <td>1.345251e+09</td>\n",
       "      <td>False</td>\n",
       "      <td>2012-08-18 00:44:23</td>\n",
       "      <td>0</td>\n",
       "    </tr>\n",
       "    <tr>\n",
       "      <th>2</th>\n",
       "      <td>1.363069e+09</td>\n",
       "      <td>True</td>\n",
       "      <td>2013-03-12 06:16:22</td>\n",
       "      <td>6</td>\n",
       "    </tr>\n",
       "    <tr>\n",
       "      <th>3</th>\n",
       "      <td>1.325845e+09</td>\n",
       "      <td>False</td>\n",
       "      <td>2012-01-06 10:11:59</td>\n",
       "      <td>10</td>\n",
       "    </tr>\n",
       "    <tr>\n",
       "      <th>4</th>\n",
       "      <td>1.335563e+09</td>\n",
       "      <td>True</td>\n",
       "      <td>2012-04-27 21:40:00</td>\n",
       "      <td>21</td>\n",
       "    </tr>\n",
       "  </tbody>\n",
       "</table>\n",
       "</div>"
      ],
      "text/plain": [
       "   unix_timestamp_of_request_utc requester_received_pizza            Datetime  \\\n",
       "0                   1.379168e+09                    False 2013-09-14 14:10:23   \n",
       "1                   1.345251e+09                    False 2012-08-18 00:44:23   \n",
       "2                   1.363069e+09                     True 2013-03-12 06:16:22   \n",
       "3                   1.325845e+09                    False 2012-01-06 10:11:59   \n",
       "4                   1.335563e+09                     True 2012-04-27 21:40:00   \n",
       "\n",
       "   Hour  \n",
       "0    14  \n",
       "1     0  \n",
       "2     6  \n",
       "3    10  \n",
       "4    21  "
      ]
     },
     "metadata": {},
     "output_type": "display_data"
    }
   ],
   "source": [
    "## PARAMETER 2:  TIMEDATE STAMP OF REDDIT POST ##\n",
    "\n",
    "\n",
    "unix = allTData[['unix_timestamp_of_request_utc', 'requester_received_pizza']].copy()\n",
    "\n",
    "# Convert from unix > datetime\n",
    "unix['Datetime'] = pandas.to_datetime(unix['unix_timestamp_of_request_utc'], unit='s')\n",
    "unix['Hour'] = unix['Datetime'].dt.hour\n",
    "display(unix.head(5))\n",
    "\n",
    "# set datetime as index\n",
    "unix_index = unix.set_index('Datetime')\n",
    "unix_index = unix_index.drop(['unix_timestamp_of_request_utc'], axis=1)"
   ]
  },
  {
   "cell_type": "code",
   "execution_count": 16,
   "metadata": {},
   "outputs": [
    {
     "data": {
      "image/png": "[encoded data removed]",
      "text/plain": [
       "<matplotlib.figure.Figure at 0x125c67400>"
      ]
     },
     "metadata": {},
     "output_type": "display_data"
    }
   ],
   "source": [
    "# plot pizzas by month \n",
    "%matplotlib inline\n",
    "unix_index_base = unix_index.drop(['Hour'], axis=1)\n",
    "month_pizzas = unix_index_base.resample('M').sum()\n",
    "\n",
    "month_pizzas_bar = month_pizzas.plot(kind='bar')"
   ]
  },
  {
   "cell_type": "code",
   "execution_count": 28,
   "metadata": {},
   "outputs": [
    {
     "name": "stdout",
     "output_type": "stream",
     "text": [
      "Statistics of pizza success by hour\n",
      "\n",
      "count    24.00000\n",
      "mean     10.75000\n",
      "std       8.78858\n",
      "min       0.00000\n",
      "25%       3.50000\n",
      "50%       8.50000\n",
      "75%      16.00000\n",
      "max      32.00000\n",
      "Name: requester_received_pizza, dtype: float64\n",
      "\n",
      "\n",
      "Pizza success by hour of the day\n"
     ]
    },
    {
     "data": {
      "text/plain": [
       "<matplotlib.axes._subplots.AxesSubplot at 0x1258d6b70>"
      ]
     },
     "execution_count": 28,
     "metadata": {},
     "output_type": "execute_result"
    },
    {
     "data": {
      "image/png": "[encoded data removed]",
      "text/plain": [
       "<matplotlib.figure.Figure at 0x12636ab70>"
      ]
     },
     "metadata": {},
     "output_type": "display_data"
    }
   ],
   "source": [
    "# TIME ANALYSIS - HOUR OF REDDIT POST\n",
    "\n",
    "# Removed first few months to minimize skew\n",
    "hourly = unix_index['10/2012':'9/2013'].groupby('Hour')['requester_received_pizza'].sum()\n",
    "print(\"Statistics of pizza success by hour\\n\")\n",
    "print(hourly.describe())\n",
    "print(\"\\n\\nPizza success by hour of the day\")\n",
    "hourly.plot('area')"
   ]
  },
  {
   "cell_type": "markdown",
   "metadata": {},
   "source": [
    "# Section 3: Modelling"
   ]
  },
  {
   "cell_type": "markdown",
   "metadata": {},
   "source": [
    "## Leslie's scoring functions"
   ]
  },
  {
   "cell_type": "code",
   "execution_count": 29,
   "metadata": {
    "collapsed": true
   },
   "outputs": [],
   "source": [
    "# Group scoring functions\n",
    "\n",
    "def roc_curve1(y_true, y_pred_prob):\n",
    "    \"\"\"This function plots the ROC curve\n",
    "    Inputs: y_true, correct label\n",
    "            y_pred_prob, predicted probabilities\n",
    "    \"\"\"\n",
    "    fpr, tpr, thr = roc_curve(y_true, y_pred_prob)\n",
    "   \n",
    "    plt.figure()\n",
    "    plt.plot(fpr,tpr)\n",
    "    plt.xlabel(\"False positive rate\")\n",
    "    plt.ylabel(\"True positive rate\")\n",
    "    plt.title(\"ROC Curve\")\n",
    "    plt.show()\n",
    "    \n",
    "\n",
    "def score_rep(y_true, y_pred, desc):\n",
    "    \"\"\"Function to print out comprehensive report for classification test\n",
    "    Inputs: y_true, correct label\n",
    "            y_pred, predicted label from model\n",
    "            desc, description of model\n",
    "    Output: classification report\n",
    "    \"\"\"\n",
    "    print(desc)\n",
    "    print(\"-\"*75)\n",
    "    print(\"Accuracy: \", metrics.accuracy_score(y_true, y_pred))\n",
    "    print(\"Area under curve of ROC: \", metrics.roc_auc_score(y_true, y_pred))\n",
    "    print(\"Classification report:\\n\")\n",
    "    print(metrics.classification_report(y_true, y_pred))\n",
    "    print(\"-\"*75)"
   ]
  },
  {
   "cell_type": "markdown",
   "metadata": {},
   "source": [
    "## Section 3.1: Status and Hour LR model"
   ]
  },
  {
   "cell_type": "code",
   "execution_count": 30,
   "metadata": {},
   "outputs": [
    {
     "name": "stdout",
     "output_type": "stream",
     "text": [
      "\n",
      "Scoring for Request-retrieval Z-scores and Hour\n",
      "Accuracy: 0.74\n",
      "F1 score: 0.0\n"
     ]
    },
    {
     "data": {
      "image/png": "[encoded data removed]",
      "text/plain": [
       "<matplotlib.figure.Figure at 0x1255a8e80>"
      ]
     },
     "metadata": {},
     "output_type": "display_data"
    },
    {
     "name": "stdout",
     "output_type": "stream",
     "text": [
      "Logistic Regression, C = 0.01\n",
      "---------------------------------------------------------------------------\n",
      "Accuracy:  0.74\n",
      "Area under curve of ROC:  0.5\n",
      "Classification report:\n",
      "\n",
      "             precision    recall  f1-score   support\n",
      "\n",
      "      False       0.74      1.00      0.85       740\n",
      "       True       0.00      0.00      0.00       260\n",
      "\n",
      "avg / total       0.55      0.74      0.63      1000\n",
      "\n",
      "---------------------------------------------------------------------------\n"
     ]
    }
   ],
   "source": [
    "import warnings\n",
    "warnings.filterwarnings('ignore') \n",
    "\n",
    "# FOR STATUS AND TIME BY HOUR\n",
    "lr = LogisticRegression(penalty='l2', C=0.01)\n",
    "\n",
    "train_labels = np.asarray(allTData['requester_received_pizza'])\n",
    "dev_labels = np.asarray(allDData['requester_received_pizza'])\n",
    "\n",
    "# setup training and development datasets\n",
    "# train\n",
    "stathourTData = pandas.concat([statusTtrain['Request-Retrieval Z-score'], allTData['unix_timestamp_of_request_utc']], axis=1, \n",
    "                              keys=['Request-Retrieval Z-score', 'unix_timestamp_of_request_utc'])\n",
    "stathourTData['Datetime'] = pandas.to_datetime(stathourTData['unix_timestamp_of_request_utc'], unit='s')\n",
    "stathourTData['Hour'] = stathourTData['Datetime'].dt.hour\n",
    "stathourTData_ = stathourTData.drop(['Datetime', 'unix_timestamp_of_request_utc'], axis=1)\n",
    "# display(stathourTData.head(5))\n",
    "\n",
    "# development\n",
    "stathourDData = pandas.concat([statusDtrain['Request-Retrieval Z-score'], allDData['unix_timestamp_of_request_utc']], axis=1, \n",
    "                              keys=['Request-Retrieval Z-score', 'unix_timestamp_of_request_utc'])\n",
    "stathourDData['Datetime'] = pandas.to_datetime(stathourDData['unix_timestamp_of_request_utc'], unit='s')\n",
    "stathourDData['Hour'] = stathourDData['Datetime'].dt.hour\n",
    "stathourDData_ = stathourDData.drop(['Datetime', 'unix_timestamp_of_request_utc'], axis=1)\n",
    "# display(stathourDData.head(5))\n",
    "\n",
    "# fit LR models\n",
    "train_stathour_model = lr.fit(stathourTData_, train_labels)\n",
    "dev_stathour_labels = train_stathour_model.predict(stathourDData_)\n",
    "stathour_score = train_stathour_model.score(stathourDData_, dev_labels)\n",
    "stathour_F1score = metrics.f1_score(dev_stathour_labels, dev_labels)\n",
    "\n",
    "print(\"\\nScoring for Request-retrieval Z-scores and Hour\")\n",
    "print(\"Accuracy:\", stathour_score)\n",
    "print(\"F1 score:\", stathour_F1score)\n",
    "roc_curve1(dev_labels, train_stathour_model.predict_proba(stathourDData_)[:,0])\n",
    "score_rep(dev_labels, dev_stathour_labels,\"Logistic Regression, C = 0.01\")"
   ]
  },
  {
   "cell_type": "markdown",
   "metadata": {},
   "source": [
    "## Section 3.1"
   ]
  },
  {
   "cell_type": "code",
   "execution_count": null,
   "metadata": {
    "collapsed": true
   },
   "outputs": [],
   "source": [
    "# retrieve probabilities from text model where training label is True\n",
    "text_model = modelLogit.fit(tVector_p, trainLabel)\n",
    "prob = text_model.predict_proba(dVector_p)\n",
    "prob_true = [float(y) for x,y in prob]\n",
    "prob_true = pandas.DataFrame(prob_true)\n",
    "prob_false = [float(x) for x,y in prob]\n",
    "prob_false = pandas.DataFrame(prob_false)\n",
    "\n",
    "# add as a parameter to status/hour dataframe\n",
    "combinedTData = pandas.concat([stathourTData_, prob_true, prob_false], axis = 1)\n",
    "combinedDData = stathourDData_\n",
    "\n",
    "# fit LR models\n",
    "train_comb_model = lr.fit(combinedTData, train_labels)\n",
    "dev_comb_labels = train_train_comb_model.predict(combinedDData)\n",
    "comb_score = train_comb_model.score(combinedDData, dev_labels)\n",
    "comb_F1score = metrics.f1_score(dev_comb_labels, dev_labels)\n",
    "\n",
    "print(\"\\nScoring for Request-retrieval Z-scores and bucketed Hour:\")\n",
    "print(\"Accuracy:\", comb_score)\n",
    "print(\"F1 score:\", comb_F1score)\n",
    "roc_curve1(dev_labels, train_comb_model.predict_proba(combinedDData)[:,0])\n",
    "score_rep(dev_labels, dev_comb_labels,\"Logistic Regression, C = 0.01\")\n"
   ]
  }
 ],
 "metadata": {
  "kernelspec": {
   "display_name": "Python 3",
   "language": "python",
   "name": "python3"
  },
  "language_info": {
   "codemirror_mode": {
    "name": "ipython",
    "version": 3
   },
   "file_extension": ".py",
   "mimetype": "text/x-python",
   "name": "python",
   "nbconvert_exporter": "python",
   "pygments_lexer": "ipython3",
   "version": "3.6.0"
  }
 },
 "nbformat": 4,
 "nbformat_minor": 1
}
